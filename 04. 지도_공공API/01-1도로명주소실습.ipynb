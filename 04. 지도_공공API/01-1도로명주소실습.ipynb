{
 "cells": [
  {
   "cell_type": "markdown",
   "metadata": {},
   "source": [
    "# 한국경제신문사, 서울특별시청, 종로구청, 중구청, 효창공원 -> 건물명&도로명주소\r\n",
    "## 5개의 건물명을 리스트로 받아 도로명주소를 구한 뒤 DataFrame -> addr.csv"
   ]
  },
  {
   "cell_type": "code",
   "execution_count": 1,
   "metadata": {},
   "outputs": [],
   "source": [
    "import requests\r\n",
    "from urllib.parse import urlparse, quote\r\n",
    "import pandas as pd"
   ]
  },
  {
   "cell_type": "code",
   "execution_count": 2,
   "metadata": {},
   "outputs": [],
   "source": [
    "with open('roadapikey.txt', mode='r') as key_file:\r\n",
    "    road_key = key_file.read()"
   ]
  },
  {
   "cell_type": "code",
   "execution_count": 4,
   "metadata": {},
   "outputs": [
    {
     "data": {
      "text/plain": "'https://www.juso.go.kr/addrlink/addrLinkApi.do?confmKey=devU01TX0FVVEgyMDIxMDYwMzE2MDMxNzExMTIzOTk=&currentPage=1&countPerPage=10&keyword=%ED%95%9C%EA%B5%AD%EA%B2%BD%EC%A0%9C%EC%8B%A0%EB%AC%B8%EC%82%AC&resultType=json'"
     },
     "execution_count": 4,
     "metadata": {},
     "output_type": "execute_result"
    }
   ],
   "source": [
    "# url = 'https://www.juso.go.kr/addrlink/addrLinkApi.do'\r\n",
    "# params = 'service=address&request=getcoord&version=2.0&crs=epsg:4326&refine=true&simple=false&format=json&type='\r\n",
    "# road_type = 'PARCEL'\r\n",
    "# address = '&address='\r\n",
    "# keys = '&key='\r\n",
    "# primary_key = 'road_key'\r\n",
    "# geocode = pd.DataFrame(columns = ['name','address', 'x', 'y'])"
   ]
  },
  {
   "cell_type": "code",
   "execution_count": 20,
   "metadata": {},
   "outputs": [],
   "source": [
    "bldg_list = ['한국경제신문사', '서울특별시청', '종로구청', '중구청','효창공원']"
   ]
  },
  {
   "cell_type": "code",
   "execution_count": 23,
   "metadata": {},
   "outputs": [],
   "source": [
    "addr_list = []\r\n",
    "for bldg in bldg_list:\r\n",
    "    url = f\"{road_url}?confmKey={road_key}&currentPage=1&countPerPage=10&keyword={quote(bldg)}&resultType=json\"\r\n",
    "    result = requests.get(url).json()\r\n",
    "    \r\n",
    "    road_add =result['results']['juso'][0]['roadAddr']\r\n",
    "    addr_list.append(road_add)"
   ]
  },
  {
   "cell_type": "code",
   "execution_count": 24,
   "metadata": {},
   "outputs": [
    {
     "data": {
      "text/plain": "['서울특별시 중구 청파로 463 (중림동)',\n '서울특별시 중구 세종대로 110 (태평로1가)',\n '서울특별시 종로구 종로1길 36 (수송동)',\n '서울특별시 중구 창경궁로 17 (예관동)',\n '서울특별시 용산구 효창원로 177-18 (효창동)']"
     },
     "execution_count": 24,
     "metadata": {},
     "output_type": "execute_result"
    }
   ],
   "source": [
    "addr_list"
   ]
  },
  {
   "cell_type": "code",
   "execution_count": 25,
   "metadata": {},
   "outputs": [
    {
     "data": {
      "text/html": "<div>\n<style scoped>\n    .dataframe tbody tr th:only-of-type {\n        vertical-align: middle;\n    }\n\n    .dataframe tbody tr th {\n        vertical-align: top;\n    }\n\n    .dataframe thead th {\n        text-align: right;\n    }\n</style>\n<table border=\"1\" class=\"dataframe\">\n  <thead>\n    <tr style=\"text-align: right;\">\n      <th></th>\n      <th>건물명</th>\n      <th>주소</th>\n    </tr>\n  </thead>\n  <tbody>\n    <tr>\n      <th>0</th>\n      <td>한국경제신문사</td>\n      <td>서울특별시 중구 청파로 463 (중림동)</td>\n    </tr>\n    <tr>\n      <th>1</th>\n      <td>서울특별시청</td>\n      <td>서울특별시 중구 세종대로 110 (태평로1가)</td>\n    </tr>\n    <tr>\n      <th>2</th>\n      <td>종로구청</td>\n      <td>서울특별시 종로구 종로1길 36 (수송동)</td>\n    </tr>\n    <tr>\n      <th>3</th>\n      <td>중구청</td>\n      <td>서울특별시 중구 창경궁로 17 (예관동)</td>\n    </tr>\n    <tr>\n      <th>4</th>\n      <td>효창공원</td>\n      <td>서울특별시 용산구 효창원로 177-18 (효창동)</td>\n    </tr>\n  </tbody>\n</table>\n</div>",
      "text/plain": "       건물명                           주소\n0  한국경제신문사       서울특별시 중구 청파로 463 (중림동)\n1   서울특별시청    서울특별시 중구 세종대로 110 (태평로1가)\n2     종로구청      서울특별시 종로구 종로1길 36 (수송동)\n3      중구청       서울특별시 중구 창경궁로 17 (예관동)\n4     효창공원  서울특별시 용산구 효창원로 177-18 (효창동)"
     },
     "execution_count": 25,
     "metadata": {},
     "output_type": "execute_result"
    }
   ],
   "source": [
    "df = pd.DataFrame({\r\n",
    "    '건물명' : bldg_list,\r\n",
    "    '주소' : addr_list\r\n",
    "})\r\n",
    "df"
   ]
  },
  {
   "cell_type": "code",
   "execution_count": 26,
   "metadata": {},
   "outputs": [],
   "source": [
    "df.to_csv('addr.csv', index=False, sep=',',encoding='utf8')"
   ]
  }
 ],
 "metadata": {
  "kernelspec": {
   "display_name": "Python 3.8.5 64-bit ('base': conda)",
   "name": "python385jvsc74a57bd08c1eae21719a0790335dcb83aad72b63b602cfe5cdb2bda0f60bc11d4f154e4b"
  },
  "language_info": {
   "codemirror_mode": {
    "name": "ipython",
    "version": 3
   },
   "file_extension": ".py",
   "mimetype": "text/x-python",
   "name": "python",
   "nbconvert_exporter": "python",
   "pygments_lexer": "ipython3",
   "version": "3.8.5"
  },
  "orig_nbformat": 2
 },
 "nbformat": 4,
 "nbformat_minor": 2
}
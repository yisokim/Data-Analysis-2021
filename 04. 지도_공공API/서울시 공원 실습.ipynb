{
 "cells": [
  {
   "cell_type": "code",
   "execution_count": 2,
   "metadata": {},
   "outputs": [],
   "source": [
    "import requests\r\n",
    "from urllib.parse import urlparse, quote\r\n",
    "import pandas as pd\r\n",
    "import warnings\r\n",
    "warnings.filterwarnings('ignore')"
   ]
  },
  {
   "cell_type": "code",
   "execution_count": 3,
   "metadata": {},
   "outputs": [],
   "source": [
    "with open('kakaoapi.txt', mode='r') as key_file:\r\n",
    "    kakao_key = key_file.read()"
   ]
  },
  {
   "cell_type": "code",
   "execution_count": 4,
   "metadata": {},
   "outputs": [
    {
     "data": {
      "text/plain": "((132, 20),\n    공원번호       공원명                                               공원개요  \\\n 0     1  남산도시자연공원  남산공원은 도심에 위치하여 서울시민에게 맑은 공기를 제공하는 자연휴식처이며 산책 꽃...   \n 1     2    길동생태공원  길동생태공원은 생물의 서식처를 제공하고 종다양성을 증진시키며 자연생태계의 생물들을 ...   \n \n                                              면적        개원일  \\\n 0  2896887㎡ 임 야 : 2454140㎡ 녹지대 및 기타시설 : 442747㎡  1968.9.10   \n 1                                        80683㎡  1999.5.20   \n \n                                                 주요시설  \\\n 0  기반시설 : 광장 45950㎡ 도로 108530㎡ 산책로 6.7㎞ (북측:3.7㎞/...   \n 1               탐방객안내소 야외전시대 관찰대 목재데크 조류관찰대 길동생태문화센터   \n \n                                         주요식물  \\\n 0          소나무 단풍 아카시아 상수리나무 등 191종 2881870주   \n 1  소나무 보리수 등 64종 31800주 산국 부들 등 138종 192800본   \n \n                                                  안내도  \\\n 0  http://parks.seoul.go.kr/upload/seditorMulti/2...   \n 1  http://parks.seoul.go.kr/template/common/img/p...   \n \n                                                 오시는길  \\\n 0  명동역(남산케이블카 와룡묘 서울애니메이션센터 방면) 도보 명동역 3번출구 → 퍼시픽...   \n 1                                                NaN   \n \n                                              이용시참고사항  \\\n 0  남산공원 차량통행 금지안내 2005년 5월 1일부터 남산공원에 일반승용차 택시 통행...   \n 1  매주 월요일은 휴관입니다 사전예약 후 입장하실 수 있습니다. ▶ 인터넷 예약 바로가...   \n \n                                                  이미지   지역  \\\n 0  http://parks.seoul.go.kr/file/info/view.do?fId...   중구   \n 1  http://parks.seoul.go.kr/file/info/view.do?fId...  강동구   \n \n                            공원주소              관리부서          전화번호  X좌표(GRS80TM)  \\\n 0        서울특별시 중구 삼일대로 231(예장동)    서울특별시중부푸른도시사업소  02-3783-5900    198364.107   \n 1  서울특별시 강동구 천호대로 1291(길동생태공원)   동부공원녹지사업소 길동생태공원   02-489-2770    213554.120   \n \n    Y좌표(GRS80TM)  X좌표(WGS84)  Y좌표(WGS84)  \\\n 0    450395.554  126.990377   37.550140   \n 1    448852.675  127.154779   37.540394   \n \n                                                바로가기  \n 0   http://parks.seoul.go.kr/template/sub/namsan.do  \n 1  http://parks.seoul.go.kr/template/sub/gildong.do  )"
     },
     "execution_count": 4,
     "metadata": {},
     "output_type": "execute_result"
    }
   ],
   "source": [
    "# 데이터 로드\r\n",
    "park = pd.read_csv('서울시 주요 공원현황.csv', encoding='euc-kr')\r\n",
    "park.shape, park.head(2)"
   ]
  },
  {
   "cell_type": "code",
   "execution_count": 53,
   "metadata": {},
   "outputs": [
    {
     "data": {
      "text/plain": "Index(['공원번호', '공원명', '공원개요', '면적', '개원일', '주요시설', '주요식물', '안내도', '오시는길',\n       '이용시참고사항', '이미지', '지역', '공원주소', '관리부서', '전화번호', 'X좌표(GRS80TM)',\n       'Y좌표(GRS80TM)', 'X좌표(WGS84)', 'Y좌표(WGS84)', '바로가기'],\n      dtype='object')"
     },
     "execution_count": 53,
     "metadata": {},
     "output_type": "execute_result"
    }
   ],
   "source": [
    "park.columns"
   ]
  },
  {
   "cell_type": "code",
   "execution_count": 5,
   "metadata": {},
   "outputs": [
    {
     "data": {
      "text/html": "<div>\n<style scoped>\n    .dataframe tbody tr th:only-of-type {\n        vertical-align: middle;\n    }\n\n    .dataframe tbody tr th {\n        vertical-align: top;\n    }\n\n    .dataframe thead th {\n        text-align: right;\n    }\n</style>\n<table border=\"1\" class=\"dataframe\">\n  <thead>\n    <tr style=\"text-align: right;\">\n      <th></th>\n      <th>공원명</th>\n      <th>면적</th>\n      <th>공원주소</th>\n    </tr>\n  </thead>\n  <tbody>\n    <tr>\n      <th>0</th>\n      <td>남산도시자연공원</td>\n      <td>2896887㎡ 임 야 : 2454140㎡ 녹지대 및 기타시설 : 442747㎡</td>\n      <td>서울특별시 중구 삼일대로 231(예장동)</td>\n    </tr>\n    <tr>\n      <th>1</th>\n      <td>길동생태공원</td>\n      <td>80683㎡</td>\n      <td>서울특별시 강동구 천호대로 1291(길동생태공원)</td>\n    </tr>\n  </tbody>\n</table>\n</div>",
      "text/plain": "        공원명                                            면적  \\\n0  남산도시자연공원  2896887㎡ 임 야 : 2454140㎡ 녹지대 및 기타시설 : 442747㎡   \n1    길동생태공원                                        80683㎡   \n\n                           공원주소  \n0        서울특별시 중구 삼일대로 231(예장동)  \n1  서울특별시 강동구 천호대로 1291(길동생태공원)   "
     },
     "execution_count": 5,
     "metadata": {},
     "output_type": "execute_result"
    }
   ],
   "source": [
    "# 불필요한 칼럼 제거\r\n",
    "park.drop(columns=['공원번호', '공원개요', '개원일', '주요시설', '주요식물',\r\n",
    "                '안내도', '오시는길', '이용시참고사항', '이미지', '지역', '관리부서', '전화번호',\r\n",
    "                'X좌표(GRS80TM)', 'Y좌표(GRS80TM)', 'X좌표(WGS84)', 'Y좌표(WGS84)', '바로가기'], inplace=True,  axis=1,)\r\n",
    "park.head(2)"
   ]
  },
  {
   "cell_type": "code",
   "execution_count": 74,
   "metadata": {},
   "outputs": [
    {
     "data": {
      "text/plain": "Index(['공원명', '면적', '공원주소'], dtype='object')"
     },
     "execution_count": 74,
     "metadata": {},
     "output_type": "execute_result"
    }
   ],
   "source": [
    "park.columns"
   ]
  },
  {
   "cell_type": "code",
   "execution_count": 6,
   "metadata": {},
   "outputs": [
    {
     "data": {
      "text/html": "<div>\n<style scoped>\n    .dataframe tbody tr th:only-of-type {\n        vertical-align: middle;\n    }\n\n    .dataframe tbody tr th {\n        vertical-align: top;\n    }\n\n    .dataframe thead th {\n        text-align: right;\n    }\n</style>\n<table border=\"1\" class=\"dataframe\">\n  <thead>\n    <tr style=\"text-align: right;\">\n      <th></th>\n      <th>공원명</th>\n      <th>면적</th>\n      <th>공원주소</th>\n    </tr>\n  </thead>\n  <tbody>\n    <tr>\n      <th>0</th>\n      <td>남산도시자연공원</td>\n      <td>2896887㎡ 임 야 : 2454140㎡ 녹지대 및 기타시설 : 442747㎡</td>\n      <td>서울특별시 중구 삼일대로 231(예장동)</td>\n    </tr>\n    <tr>\n      <th>1</th>\n      <td>길동생태공원</td>\n      <td>80683㎡</td>\n      <td>서울특별시 강동구 천호대로 1291(길동생태공원)</td>\n    </tr>\n    <tr>\n      <th>2</th>\n      <td>서울대공원</td>\n      <td>9132690m²</td>\n      <td>경기도 과천시 대공원광장로 102</td>\n    </tr>\n    <tr>\n      <th>3</th>\n      <td>서울숲</td>\n      <td>480994㎡</td>\n      <td>서울특별시 성동구 뚝섬로 273 (성수동1가)</td>\n    </tr>\n    <tr>\n      <th>4</th>\n      <td>월드컵공원</td>\n      <td>2284085㎡</td>\n      <td>서울특별시 마포구 하늘공원로 84(월드컵공원)</td>\n    </tr>\n    <tr>\n      <th>...</th>\n      <td>...</td>\n      <td>...</td>\n      <td>...</td>\n    </tr>\n    <tr>\n      <th>126</th>\n      <td>서일대뒷산공원</td>\n      <td>631021㎡</td>\n      <td>서울특별시 중랑구 면목동 산19</td>\n    </tr>\n    <tr>\n      <th>127</th>\n      <td>용마도시자연공원(사가정공원)</td>\n      <td>109635㎡</td>\n      <td>서울특별시 중랑구 면목7동 산50</td>\n    </tr>\n    <tr>\n      <th>128</th>\n      <td>문화비축기지</td>\n      <td>140022㎡</td>\n      <td>서울특별시 마포구 증산로 87</td>\n    </tr>\n    <tr>\n      <th>129</th>\n      <td>경춘선숲길</td>\n      <td>211392㎡</td>\n      <td>노원구 공릉2동 산 82-2</td>\n    </tr>\n    <tr>\n      <th>130</th>\n      <td>율현공원</td>\n      <td>157535㎡</td>\n      <td>서울특별시 강남구 율현동 밤고개로24길(율현동 56)</td>\n    </tr>\n  </tbody>\n</table>\n<p>129 rows × 3 columns</p>\n</div>",
      "text/plain": "                 공원명                                            면적  \\\n0           남산도시자연공원  2896887㎡ 임 야 : 2454140㎡ 녹지대 및 기타시설 : 442747㎡   \n1             길동생태공원                                        80683㎡   \n2              서울대공원                                     9132690m²   \n3                서울숲                                       480994㎡   \n4              월드컵공원                                      2284085㎡   \n..               ...                                           ...   \n126          서일대뒷산공원                                      631021㎡    \n127  용마도시자연공원(사가정공원)                                      109635㎡    \n128           문화비축기지                                       140022㎡   \n129            경춘선숲길                                       211392㎡   \n130             율현공원                                       157535㎡   \n\n                              공원주소  \n0           서울특별시 중구 삼일대로 231(예장동)  \n1     서울특별시 강동구 천호대로 1291(길동생태공원)   \n2               경기도 과천시 대공원광장로 102  \n3       서울특별시 성동구 뚝섬로 273 (성수동1가)   \n4        서울특별시 마포구 하늘공원로 84(월드컵공원)  \n..                             ...  \n126              서울특별시 중랑구 면목동 산19  \n127            서울특별시 중랑구 면목7동 산50   \n128               서울특별시 마포구 증산로 87  \n129                노원구 공릉2동 산 82-2  \n130  서울특별시 강남구 율현동 밤고개로24길(율현동 56)  \n\n[129 rows x 3 columns]"
     },
     "execution_count": 6,
     "metadata": {},
     "output_type": "execute_result"
    }
   ],
   "source": [
    "# 널 값 제거\r\n",
    "park=park.dropna(axis=0)\r\n",
    "park"
   ]
  },
  {
   "cell_type": "code",
   "execution_count": 7,
   "metadata": {},
   "outputs": [
    {
     "data": {
      "text/plain": "'서울특별시 중구 삼일대로 231(예장동)'"
     },
     "execution_count": 7,
     "metadata": {},
     "output_type": "execute_result"
    }
   ],
   "source": [
    "# addr -> str 으로 변환\r\n",
    "addr = park['공원주소'].str.replace(',','')[0]\r\n",
    "addr"
   ]
  },
  {
   "cell_type": "code",
   "execution_count": 66,
   "metadata": {},
   "outputs": [
    {
     "data": {
      "text/plain": "str"
     },
     "execution_count": 66,
     "metadata": {},
     "output_type": "execute_result"
    }
   ],
   "source": [
    "type(addr)"
   ]
  },
  {
   "cell_type": "code",
   "execution_count": 10,
   "metadata": {},
   "outputs": [
    {
     "name": "stdout",
     "output_type": "stream",
     "text": [
      "남산도시자연공원 서울특별시 중구 삼일대로 231(예장동)\n",
      "길동생태공원 서울특별시 강동구 천호대로 1291(길동생태공원) \n",
      "서울대공원 경기도 과천시 대공원광장로 102\n",
      "서울숲 서울특별시 성동구 뚝섬로 273 (성수동1가) \n",
      "월드컵공원 서울특별시 마포구 하늘공원로 84(월드컵공원)\n",
      "광화문시민열린마당 서울특별시 종로구 세종로 76-2\n",
      "진관근린공원(구파발폭포) 서울특별시 은평구 진관동 393\n",
      "중마루근린공원 서울특별시 영등포구 영등포동2가 222\n",
      "응봉공원 서울특별시 성동구 금호동1가 산1-72\n",
      "매화근린공원 서울특별시 강서구 등촌동 630-14\n",
      "성수근린공원 서울특별시 성동구 성수2가 3동 302-25\n",
      "샛마을근린공원 서울특별시 강동구 명일1동 288\n",
      "여의도근린공원 서울특별시 영등포구 여의공원로 68 (여의도동)\n",
      "간데메근린공원 서울특별시 동대문구 서울시립대로2길 59(간데메공원)\n",
      "훈련원근린공원 서울특별시 중구 을지로 227\n",
      "영등포근린공원 서울특별시 영등포구 신길로 275\n",
      "보라매근린공원 서울특별시 동작구 여의대방로20길 33(보라매공원)\n",
      "어린이대공원 서울특별시 광진구 능동로 216(어린이대공원)\n",
      "천호근린공원 서울특별시 강동구 올림픽로 702(천호공원)\n",
      "용산가족공원 서울특별시 용산구 서빙고로 185\n",
      "독립근린공원 서울특별시 서대문구 통일로251(독립공원)\n",
      "낙산근린공원 서울특별시 종로구 낙산길 41 (우) 03085\n",
      "양재시민의숲 서울특별시 서초구 매헌로 99 (양재동)\n",
      "관악산도시자연공원 서울특별시 관악구 관악로 1(관악산공원)\n",
      "효창근린공원 서울특별시 용산구 효창원로 177-18\n",
      "감로천생태공원(관악산) 서울특별시 금천구 독산4동 371?375 373일대\n",
      "개운산근린공원 서울특별시 성북구 북악산로 949-73(돈암동 6-1)\n",
      "개웅산근린공원 서울특별시 구로구 오류동 산13-1\n",
      "경희궁 서울특별시 종로구 새문안로 55(신문로2가 2-1)\n",
      "국립현충원 서울특별시 동작구 사당2동 산41-2\n",
      "계남근린공원 서울특별시 양천구 신정동 산44-2일대\n",
      "고척근린공원 서울특별시 구로구 고척로45길 39(고척공원)\n",
      "파리근린공원 서울특별시 양천구 목동동로 363 \n",
      "허준공원 서울특별시 강서구 허준로5길 42\n",
      "궁동근린공원 서울특별시 서대문구 성산로7길 19-24(궁동공원) \n",
      "궁산근린공원 서울특별시 강서구 가양동 산4-7\n",
      "까치산근린공원 서울특별시 동작구 사당동 산32\n",
      "꿩고개근린공원 서울특별시 강서구 방화동 산110\n",
      "노량진공원 서울특별시 동작구 여의대방로 15-45(여의대방로36길 71)\n",
      "답십리근린공원 서울특별시 동대문구 답십리로 209(답십리공원) \n",
      "대모산도시자연공원 서울특별시 강남구 광평로10길 30-71(대모산공원) \n",
      "탑골근린공원 서울특별시 종로구 종로 99\n",
      "갈산근린공원 서울특별시 양천구 신정동 162-56\n",
      "천마근린공원 서울특별시 송파구 마천동 산 1-1\n",
      "도곡근린공원 서울특별시 강남구 도곡동 산31-1\n",
      "도산근린공원 서울특별시 강남구 도산대로45길 20(도산공원)\n",
      "청량공원 서울특별시 성북구 화랑로18가길 50\n",
      "초안산근린공원 서울특별시 도봉구 창동 산157\n",
      "동명근린공원 서울특별시 강동구 고덕2동 229\n",
      "마로니에공원 서울특별시 종로구 대학로8길 1\n",
      "자매근린공원 서울특별시 영등포구 의사당대로 166 (우) 07324\n",
      "장지근린공원 서울특별시 송파구 장지동 산 11번지\n",
      "명일근린공원 서울특별시 강동구 상일동 135\n",
      "방화근린공원 서울특별시 강서구 금낭화로 176(방화공원)\n",
      "아시아근린공원 서울특별시 송파구 올림픽로 44 (잠실동)\n",
      "배봉산근린공원 서울특별시 동대문구 한천로43길 12-14(배봉산공원) \n",
      "안산도시자연공원 서울특별시 서대문구 홍제동 산33-98\n",
      "염창근린공원 서울특별시 강서구 염창동 산24-1\n",
      "백련근린공원 서울특별시 서대문구 통일로 507-22(백련공원) \n",
      "오금근린공원 서울특별시 송파구 오금로 363 오금근린공원 \n",
      "오동근린공원 서울특별시 강북구 번동 산20-1\n",
      "봉산도시자연공원 서울특별시 은평구 구산동 산61\n",
      "온수도시자연공원 서울특별시 구로구 개봉동 산2-60\n",
      "봉은공원 서울특별시 강남구 삼성동 75\n",
      "올림픽공원 서울특별시 송파구 올림픽로 424 (방이동)\n",
      "와룡근린공원 서울특별시 종로구 와룡공원길 192 (우) 03063\n",
      "봉화산근린공원 서울특별시 중랑구 묵동 산46-1\n",
      "북악산도시자연공원 서울특별시 종로구 부암동 산2-6\n",
      "북한산국립공원 서울특별시 종로구 은평구 서대문구 성북구 강북구 도봉구 일대 경기도 의정부 양주군 고양시 일대\n",
      "외국인묘지공원 서울특별시 마포구 양화진길 46(외국인묘지공원)\n",
      "불광근린공원 서울특별시 은평구 불광동 산33-1\n",
      "불암산도시자연공원 서울특별시 노원구 한글비석로12길 51-33(불암산공원) \n",
      "용마폭포공원 서울특별시 중랑구 면목동 산1-4 \n",
      "사육신공원 서울특별시 동작구 노량진로 191\n",
      "용왕산근린공원 서울특별시 양천구 목동 199-51\n",
      "사직근린공원 서울특별시 종로구 사직로9길 5\n",
      "우장산근린공원 서울특별시 강서구 내발산동 산4-5\n",
      "삼일근린공원 서울특별시 동작구 사당동 산24-17\n",
      "삼청근린공원 서울특별시 종로구 북촌로 134-1 (우) 03050\n",
      "인왕산도시자연공원 서울특별시 종로구 옥인동 산 3-1 \n",
      "상도근린공원 서울특별시 동작구 성대로6사길 27-6(상도공원) \n",
      "일자산도시자연공원 서울특별시 강동구 동남로 660(일자산공원)\n",
      "쌍문근린공원 서울특별시 도봉구 쌍문동 산80\n",
      "수락산도시자연공원 서울특별시 노원구 상계동 산3-1\n",
      "송파나루근린공원(석촌호수) 서울특별시 송파구 잠실로 148 (잠실동) \n",
      "선유도근린공원 서울특별시 영등포구 선유로 343 (당산동 1) 선유도공원관리사무소\n",
      "손기정체육공원 서울특별시 중구 손기정로 101 \n",
      "성북근린공원 서울특별시 성북구 돈암동 616-1055\n",
      "봉제산공원 서울특별시 강서구 화곡동 산41-6\n",
      "서울창포원 서울특별시 도봉구 마들로 916(서울창포원) \n",
      "북서울꿈의숲 서울특별시 강북구 월계로 173\n",
      "서서울호수공원 서울특별시 양천구 남부순환로64길 20 (신월동)\n",
      "중랑캠핑숲 서울특별시 중랑구 송림길 160(중랑캠핑숲)/중랑구 망우동 74(청소년체험의숲)\n",
      "솔밭근린공원 서울특별시 강북구 우이동 80번지 일대\n",
      "금천체육공원(관악산) 서울특별시 금천구 독산동 산118-4(금천체육공원)\n",
      "금천폭포근린공원 서울특별시 금천구 시흥대로38길 61(시흥동 937-2)\n",
      "만수천공원(관악산) 서울특별시 금천구 독산동 산8 일대\n",
      "발바닥공원 서울특별시 도봉구 시루봉로6길 33\n",
      "월천근린공원 서울특별시 도봉구 창동 28번지\n",
      "용두근린공원 서울특별시 동대문구 용두동 34-1번지 일대\n",
      "상암근린공원 서울특별시 마포구 상암동 1761\n",
      "와우근린공원 서울특별시 마포구 창전동 3-193번지 일대(홍익대 뒷산)\n",
      "금호근린공원 서울특별시 성동구 장터1길 18\n",
      "달맞이근린공원 서울특별시 성동구 옥수동 산1-1\n",
      "문정근린공원 서울특별시 송파구 문정동 18-4\n",
      "문화예술공원 서울특별시 서초구 바우뫼로12길 40 (양재동)\n",
      "세종로공원 서울특별시 종로구 세종대로 189 (우) 03172\n",
      "샘말공원(관악산) 서울특별시 관악구 대학동 산63-1일대 샘말공원\n",
      "초안산생태공원 서울특별시 도봉구 창동 산24\n",
      "서오능도시자연공원 서울특별시 은평구 구파발동 갈현동 진관내동\n",
      "청계산도시자연공원 서울특별시 서초구 원지동 산 33\n",
      "개화근린공원 서울특별시 강서구 개화동 산17\n",
      "아차산생태공원 서울특별시 광진구 광장동 370\n",
      "인능산도시자연공원 서울특별시 서초구 내곡동 산12-404\n",
      "구룡산 서울특별시 서초구 염곡동 산25-1\n",
      "우면산도시자연공원 서울특별시 서초구 우면동 산35-1\n",
      "향림근린공원 서울특별시 은평구 진관동 산55\n",
      "신사근린공원 서울특별시 은평구 신사동 산80-4\n",
      "광평근린공원 서울특별시 강남구 수서동 산10-1\n",
      "청담근린공원 서울특별시 강남구 청담동 66\n",
      "허브천문공원 서울특별시 강동구 둔촌동 산94\n",
      "연신내물빛공원 서울특별시 은평구 통일로 849\n",
      "나들이근린공원 서울특별시 중구 망우동 산 30-7 일대\n",
      "숭인근린공원 서울특별시 종로구 숭인동 58\n",
      "서일대뒷산공원 서울특별시 중랑구 면목동 산19\n",
      "용마도시자연공원(사가정공원) 서울특별시 중랑구 면목7동 산50 \n",
      "문화비축기지 서울특별시 마포구 증산로 87\n",
      "경춘선숲길 노원구 공릉2동 산 82-2\n",
      "율현공원 서울특별시 강남구 율현동 밤고개로24길(율현동 56)\n"
     ]
    }
   ],
   "source": [
    "# 예외 처리(try-except)\r\n",
    "import requests\r\n",
    "lng_list, lat_list = [], []\r\n",
    "for i in park.index:\r\n",
    "    try:\r\n",
    "        url = f\"{local_url}?query={quote(park['공원주소'][i])}\"  # 주소의 i번째\r\n",
    "        result = requests.get(url, headers={\"Authorization\" : f\"KakaoAK {kakao_key}\"}).json()\r\n",
    "        lng = result['documents'][0]['x']\r\n",
    "        lat = result['documents'][0]['y']\r\n",
    "        lng_list.append(lng)\r\n",
    "        lat_list.append(lat)\r\n",
    "    except:\r\n",
    "        print(park['공원명'][i], park['공원주소'][i])"
   ]
  },
  {
   "cell_type": "code",
   "execution_count": null,
   "metadata": {},
   "outputs": [],
   "source": [
    "import requests\r\n",
    "lng_list, lat_list = [], []\r\n",
    "for i in park.index:\r\n",
    "    try:\r\n",
    "        url = f\"{local_url}?query={quote(park['공원주소'][i])}\"  # 주소의 i번째\r\n",
    "        result = requests.get(url, headers={\"Authorization\" : f\"KakaoAK {kakao_key}\"}).json()\r\n",
    "        lng = result['documents'][0]['x']\r\n",
    "        lat = result['documents'][0]['y']\r\n",
    "        lng_list.append(lng)\r\n",
    "        lat_list.append(lat)\r\n",
    "    except:\r\n",
    "        print(park['공원명'][i], park['공원주소'][i])"
   ]
  },
  {
   "cell_type": "code",
   "execution_count": 86,
   "metadata": {},
   "outputs": [
    {
     "ename": "ValueError",
     "evalue": "Length of values (107) does not match length of index (129)",
     "output_type": "error",
     "traceback": [
      "\u001b[1;31m---------------------------------------------------------------------------\u001b[0m",
      "\u001b[1;31mValueError\u001b[0m                                Traceback (most recent call last)",
      "\u001b[1;32m<ipython-input-86-62cc3ffb83ea>\u001b[0m in \u001b[0;36m<module>\u001b[1;34m\u001b[0m\n\u001b[1;32m----> 1\u001b[1;33m \u001b[0mpark\u001b[0m\u001b[1;33m[\u001b[0m\u001b[1;34m'위도'\u001b[0m\u001b[1;33m]\u001b[0m \u001b[1;33m=\u001b[0m \u001b[0mlat_list\u001b[0m\u001b[1;33m\u001b[0m\u001b[1;33m\u001b[0m\u001b[0m\n\u001b[0m\u001b[0;32m      2\u001b[0m \u001b[0mpark\u001b[0m\u001b[1;33m[\u001b[0m\u001b[1;34m'경도'\u001b[0m\u001b[1;33m]\u001b[0m \u001b[1;33m=\u001b[0m \u001b[0mlng_list\u001b[0m\u001b[1;33m\u001b[0m\u001b[1;33m\u001b[0m\u001b[0m\n\u001b[0;32m      3\u001b[0m \u001b[0mpark\u001b[0m\u001b[1;33m\u001b[0m\u001b[1;33m\u001b[0m\u001b[0m\n",
      "\u001b[1;32m~\\miniconda3\\lib\\site-packages\\pandas\\core\\frame.py\u001b[0m in \u001b[0;36m__setitem__\u001b[1;34m(self, key, value)\u001b[0m\n\u001b[0;32m   3161\u001b[0m         \u001b[1;32melse\u001b[0m\u001b[1;33m:\u001b[0m\u001b[1;33m\u001b[0m\u001b[1;33m\u001b[0m\u001b[0m\n\u001b[0;32m   3162\u001b[0m             \u001b[1;31m# set column\u001b[0m\u001b[1;33m\u001b[0m\u001b[1;33m\u001b[0m\u001b[1;33m\u001b[0m\u001b[0m\n\u001b[1;32m-> 3163\u001b[1;33m             \u001b[0mself\u001b[0m\u001b[1;33m.\u001b[0m\u001b[0m_set_item\u001b[0m\u001b[1;33m(\u001b[0m\u001b[0mkey\u001b[0m\u001b[1;33m,\u001b[0m \u001b[0mvalue\u001b[0m\u001b[1;33m)\u001b[0m\u001b[1;33m\u001b[0m\u001b[1;33m\u001b[0m\u001b[0m\n\u001b[0m\u001b[0;32m   3164\u001b[0m \u001b[1;33m\u001b[0m\u001b[0m\n\u001b[0;32m   3165\u001b[0m     \u001b[1;32mdef\u001b[0m \u001b[0m_setitem_slice\u001b[0m\u001b[1;33m(\u001b[0m\u001b[0mself\u001b[0m\u001b[1;33m,\u001b[0m \u001b[0mkey\u001b[0m\u001b[1;33m:\u001b[0m \u001b[0mslice\u001b[0m\u001b[1;33m,\u001b[0m \u001b[0mvalue\u001b[0m\u001b[1;33m)\u001b[0m\u001b[1;33m:\u001b[0m\u001b[1;33m\u001b[0m\u001b[1;33m\u001b[0m\u001b[0m\n",
      "\u001b[1;32m~\\miniconda3\\lib\\site-packages\\pandas\\core\\frame.py\u001b[0m in \u001b[0;36m_set_item\u001b[1;34m(self, key, value)\u001b[0m\n\u001b[0;32m   3240\u001b[0m         \"\"\"\n\u001b[0;32m   3241\u001b[0m         \u001b[0mself\u001b[0m\u001b[1;33m.\u001b[0m\u001b[0m_ensure_valid_index\u001b[0m\u001b[1;33m(\u001b[0m\u001b[0mvalue\u001b[0m\u001b[1;33m)\u001b[0m\u001b[1;33m\u001b[0m\u001b[1;33m\u001b[0m\u001b[0m\n\u001b[1;32m-> 3242\u001b[1;33m         \u001b[0mvalue\u001b[0m \u001b[1;33m=\u001b[0m \u001b[0mself\u001b[0m\u001b[1;33m.\u001b[0m\u001b[0m_sanitize_column\u001b[0m\u001b[1;33m(\u001b[0m\u001b[0mkey\u001b[0m\u001b[1;33m,\u001b[0m \u001b[0mvalue\u001b[0m\u001b[1;33m)\u001b[0m\u001b[1;33m\u001b[0m\u001b[1;33m\u001b[0m\u001b[0m\n\u001b[0m\u001b[0;32m   3243\u001b[0m         \u001b[0mNDFrame\u001b[0m\u001b[1;33m.\u001b[0m\u001b[0m_set_item\u001b[0m\u001b[1;33m(\u001b[0m\u001b[0mself\u001b[0m\u001b[1;33m,\u001b[0m \u001b[0mkey\u001b[0m\u001b[1;33m,\u001b[0m \u001b[0mvalue\u001b[0m\u001b[1;33m)\u001b[0m\u001b[1;33m\u001b[0m\u001b[1;33m\u001b[0m\u001b[0m\n\u001b[0;32m   3244\u001b[0m \u001b[1;33m\u001b[0m\u001b[0m\n",
      "\u001b[1;32m~\\miniconda3\\lib\\site-packages\\pandas\\core\\frame.py\u001b[0m in \u001b[0;36m_sanitize_column\u001b[1;34m(self, key, value, broadcast)\u001b[0m\n\u001b[0;32m   3897\u001b[0m \u001b[1;33m\u001b[0m\u001b[0m\n\u001b[0;32m   3898\u001b[0m             \u001b[1;31m# turn me into an ndarray\u001b[0m\u001b[1;33m\u001b[0m\u001b[1;33m\u001b[0m\u001b[1;33m\u001b[0m\u001b[0m\n\u001b[1;32m-> 3899\u001b[1;33m             \u001b[0mvalue\u001b[0m \u001b[1;33m=\u001b[0m \u001b[0msanitize_index\u001b[0m\u001b[1;33m(\u001b[0m\u001b[0mvalue\u001b[0m\u001b[1;33m,\u001b[0m \u001b[0mself\u001b[0m\u001b[1;33m.\u001b[0m\u001b[0mindex\u001b[0m\u001b[1;33m)\u001b[0m\u001b[1;33m\u001b[0m\u001b[1;33m\u001b[0m\u001b[0m\n\u001b[0m\u001b[0;32m   3900\u001b[0m             \u001b[1;32mif\u001b[0m \u001b[1;32mnot\u001b[0m \u001b[0misinstance\u001b[0m\u001b[1;33m(\u001b[0m\u001b[0mvalue\u001b[0m\u001b[1;33m,\u001b[0m \u001b[1;33m(\u001b[0m\u001b[0mnp\u001b[0m\u001b[1;33m.\u001b[0m\u001b[0mndarray\u001b[0m\u001b[1;33m,\u001b[0m \u001b[0mIndex\u001b[0m\u001b[1;33m)\u001b[0m\u001b[1;33m)\u001b[0m\u001b[1;33m:\u001b[0m\u001b[1;33m\u001b[0m\u001b[1;33m\u001b[0m\u001b[0m\n\u001b[0;32m   3901\u001b[0m                 \u001b[1;32mif\u001b[0m \u001b[0misinstance\u001b[0m\u001b[1;33m(\u001b[0m\u001b[0mvalue\u001b[0m\u001b[1;33m,\u001b[0m \u001b[0mlist\u001b[0m\u001b[1;33m)\u001b[0m \u001b[1;32mand\u001b[0m \u001b[0mlen\u001b[0m\u001b[1;33m(\u001b[0m\u001b[0mvalue\u001b[0m\u001b[1;33m)\u001b[0m \u001b[1;33m>\u001b[0m \u001b[1;36m0\u001b[0m\u001b[1;33m:\u001b[0m\u001b[1;33m\u001b[0m\u001b[1;33m\u001b[0m\u001b[0m\n",
      "\u001b[1;32m~\\miniconda3\\lib\\site-packages\\pandas\\core\\internals\\construction.py\u001b[0m in \u001b[0;36msanitize_index\u001b[1;34m(data, index)\u001b[0m\n\u001b[0;32m    749\u001b[0m     \"\"\"\n\u001b[0;32m    750\u001b[0m     \u001b[1;32mif\u001b[0m \u001b[0mlen\u001b[0m\u001b[1;33m(\u001b[0m\u001b[0mdata\u001b[0m\u001b[1;33m)\u001b[0m \u001b[1;33m!=\u001b[0m \u001b[0mlen\u001b[0m\u001b[1;33m(\u001b[0m\u001b[0mindex\u001b[0m\u001b[1;33m)\u001b[0m\u001b[1;33m:\u001b[0m\u001b[1;33m\u001b[0m\u001b[1;33m\u001b[0m\u001b[0m\n\u001b[1;32m--> 751\u001b[1;33m         raise ValueError(\n\u001b[0m\u001b[0;32m    752\u001b[0m             \u001b[1;34m\"Length of values \"\u001b[0m\u001b[1;33m\u001b[0m\u001b[1;33m\u001b[0m\u001b[0m\n\u001b[0;32m    753\u001b[0m             \u001b[1;34mf\"({len(data)}) \"\u001b[0m\u001b[1;33m\u001b[0m\u001b[1;33m\u001b[0m\u001b[0m\n",
      "\u001b[1;31mValueError\u001b[0m: Length of values (107) does not match length of index (129)"
     ]
    }
   ],
   "source": [
    "park['위도'] = lat_list\r\n",
    "park['경도'] = lng_list\r\n",
    "park"
   ]
  }
 ],
 "metadata": {
  "kernelspec": {
   "display_name": "Python 3.8.5 64-bit ('base': conda)",
   "name": "python385jvsc74a57bd08c1eae21719a0790335dcb83aad72b63b602cfe5cdb2bda0f60bc11d4f154e4b"
  },
  "language_info": {
   "codemirror_mode": {
    "name": "ipython",
    "version": 3
   },
   "file_extension": ".py",
   "mimetype": "text/x-python",
   "name": "python",
   "nbconvert_exporter": "python",
   "pygments_lexer": "ipython3",
   "version": "3.8.5"
  },
  "orig_nbformat": 2
 },
 "nbformat": 4,
 "nbformat_minor": 2
}
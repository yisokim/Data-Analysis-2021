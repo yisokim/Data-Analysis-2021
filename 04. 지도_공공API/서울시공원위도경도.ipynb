{
 "cells": [
  {
   "cell_type": "code",
   "execution_count": 3,
   "metadata": {},
   "outputs": [],
   "source": [
    "import requests\r\n",
    "from urllib.parse import urlparse, quote\r\n",
    "import pandas as pd\r\n",
    "import warnings\r\n",
    "warnings.filterwarnings('ignore')"
   ]
  },
  {
   "cell_type": "code",
   "execution_count": 4,
   "metadata": {},
   "outputs": [],
   "source": [
    "with open('roadapikey.txt', mode='r') as key_file:\r\n",
    "    road_key = key_file.read()"
   ]
  },
  {
   "cell_type": "code",
   "execution_count": 5,
   "metadata": {},
   "outputs": [
    {
     "data": {
      "text/plain": "((132, 20),\n    공원번호       공원명                                               공원개요  \\\n 0     1  남산도시자연공원  남산공원은 도심에 위치하여 서울시민에게 맑은 공기를 제공하는 자연휴식처이며 산책 꽃...   \n 1     2    길동생태공원  길동생태공원은 생물의 서식처를 제공하고 종다양성을 증진시키며 자연생태계의 생물들을 ...   \n \n                                              면적        개원일  \\\n 0  2896887㎡ 임 야 : 2454140㎡ 녹지대 및 기타시설 : 442747㎡  1968.9.10   \n 1                                        80683㎡  1999.5.20   \n \n                                                 주요시설  \\\n 0  기반시설 : 광장 45950㎡ 도로 108530㎡ 산책로 6.7㎞ (북측:3.7㎞/...   \n 1               탐방객안내소 야외전시대 관찰대 목재데크 조류관찰대 길동생태문화센터   \n \n                                         주요식물  \\\n 0          소나무 단풍 아카시아 상수리나무 등 191종 2881870주   \n 1  소나무 보리수 등 64종 31800주 산국 부들 등 138종 192800본   \n \n                                                  안내도  \\\n 0  http://parks.seoul.go.kr/upload/seditorMulti/2...   \n 1  http://parks.seoul.go.kr/template/common/img/p...   \n \n                                                 오시는길  \\\n 0  명동역(남산케이블카 와룡묘 서울애니메이션센터 방면) 도보 명동역 3번출구 → 퍼시픽...   \n 1                                                NaN   \n \n                                              이용시참고사항  \\\n 0  남산공원 차량통행 금지안내 2005년 5월 1일부터 남산공원에 일반승용차 택시 통행...   \n 1  매주 월요일은 휴관입니다 사전예약 후 입장하실 수 있습니다. ▶ 인터넷 예약 바로가...   \n \n                                                  이미지   지역  \\\n 0  http://parks.seoul.go.kr/file/info/view.do?fId...   중구   \n 1  http://parks.seoul.go.kr/file/info/view.do?fId...  강동구   \n \n                            공원주소              관리부서          전화번호  X좌표(GRS80TM)  \\\n 0        서울특별시 중구 삼일대로 231(예장동)    서울특별시중부푸른도시사업소  02-3783-5900    198364.107   \n 1  서울특별시 강동구 천호대로 1291(길동생태공원)   동부공원녹지사업소 길동생태공원   02-489-2770    213554.120   \n \n    Y좌표(GRS80TM)  X좌표(WGS84)  Y좌표(WGS84)  \\\n 0    450395.554  126.990377   37.550140   \n 1    448852.675  127.154779   37.540394   \n \n                                                바로가기  \n 0   http://parks.seoul.go.kr/template/sub/namsan.do  \n 1  http://parks.seoul.go.kr/template/sub/gildong.do  )"
     },
     "execution_count": 5,
     "metadata": {},
     "output_type": "execute_result"
    }
   ],
   "source": [
    "# 데이터 로드\r\n",
    "park = pd.read_csv('서울시 주요 공원현황.csv', encoding='euc-kr')\r\n",
    "park.shape, park.head(2)"
   ]
  },
  {
   "cell_type": "code",
   "execution_count": 6,
   "metadata": {},
   "outputs": [
    {
     "data": {
      "text/html": "<div>\n<style scoped>\n    .dataframe tbody tr th:only-of-type {\n        vertical-align: middle;\n    }\n\n    .dataframe tbody tr th {\n        vertical-align: top;\n    }\n\n    .dataframe thead th {\n        text-align: right;\n    }\n</style>\n<table border=\"1\" class=\"dataframe\">\n  <thead>\n    <tr style=\"text-align: right;\">\n      <th></th>\n      <th>공원명</th>\n      <th>면적</th>\n      <th>공원주소</th>\n      <th>X좌표(WGS84)</th>\n      <th>Y좌표(WGS84)</th>\n    </tr>\n  </thead>\n  <tbody>\n    <tr>\n      <th>0</th>\n      <td>남산도시자연공원</td>\n      <td>2896887㎡ 임 야 : 2454140㎡ 녹지대 및 기타시설 : 442747㎡</td>\n      <td>서울특별시 중구 삼일대로 231(예장동)</td>\n      <td>126.990377</td>\n      <td>37.550140</td>\n    </tr>\n    <tr>\n      <th>1</th>\n      <td>길동생태공원</td>\n      <td>80683㎡</td>\n      <td>서울특별시 강동구 천호대로 1291(길동생태공원)</td>\n      <td>127.154779</td>\n      <td>37.540394</td>\n    </tr>\n  </tbody>\n</table>\n</div>",
      "text/plain": "        공원명                                            면적  \\\n0  남산도시자연공원  2896887㎡ 임 야 : 2454140㎡ 녹지대 및 기타시설 : 442747㎡   \n1    길동생태공원                                        80683㎡   \n\n                           공원주소  X좌표(WGS84)  Y좌표(WGS84)  \n0        서울특별시 중구 삼일대로 231(예장동)  126.990377   37.550140  \n1  서울특별시 강동구 천호대로 1291(길동생태공원)   127.154779   37.540394  "
     },
     "execution_count": 6,
     "metadata": {},
     "output_type": "execute_result"
    }
   ],
   "source": [
    "# 불필요한 칼럼 제거\r\n",
    "park.drop(columns=['공원번호', '공원개요', '개원일', '주요시설', '주요식물',\r\n",
    "                '안내도', '오시는길', '이용시참고사항', '이미지', '지역', '관리부서', '전화번호',\r\n",
    "                'X좌표(GRS80TM)', 'Y좌표(GRS80TM)', '바로가기'], inplace=True,  axis=1,)\r\n",
    "park.head(2)"
   ]
  },
  {
   "cell_type": "code",
   "execution_count": 7,
   "metadata": {},
   "outputs": [
    {
     "data": {
      "text/html": "<div>\n<style scoped>\n    .dataframe tbody tr th:only-of-type {\n        vertical-align: middle;\n    }\n\n    .dataframe tbody tr th {\n        vertical-align: top;\n    }\n\n    .dataframe thead th {\n        text-align: right;\n    }\n</style>\n<table border=\"1\" class=\"dataframe\">\n  <thead>\n    <tr style=\"text-align: right;\">\n      <th></th>\n      <th>공원명</th>\n      <th>면적</th>\n      <th>공원주소</th>\n      <th>경도</th>\n      <th>위도</th>\n    </tr>\n  </thead>\n  <tbody>\n    <tr>\n      <th>0</th>\n      <td>남산도시자연공원</td>\n      <td>2896887㎡ 임 야 : 2454140㎡ 녹지대 및 기타시설 : 442747㎡</td>\n      <td>서울특별시 중구 삼일대로 231(예장동)</td>\n      <td>126.990377</td>\n      <td>37.550140</td>\n    </tr>\n    <tr>\n      <th>1</th>\n      <td>길동생태공원</td>\n      <td>80683㎡</td>\n      <td>서울특별시 강동구 천호대로 1291(길동생태공원)</td>\n      <td>127.154779</td>\n      <td>37.540394</td>\n    </tr>\n    <tr>\n      <th>2</th>\n      <td>서울대공원</td>\n      <td>9132690m²</td>\n      <td>경기도 과천시 대공원광장로 102</td>\n      <td>127.019846</td>\n      <td>37.426449</td>\n    </tr>\n    <tr>\n      <th>3</th>\n      <td>서울숲</td>\n      <td>480994㎡</td>\n      <td>서울특별시 성동구 뚝섬로 273 (성수동1가)</td>\n      <td>127.041798</td>\n      <td>37.543072</td>\n    </tr>\n    <tr>\n      <th>4</th>\n      <td>월드컵공원</td>\n      <td>2284085㎡</td>\n      <td>서울특별시 마포구 하늘공원로 84(월드컵공원)</td>\n      <td>126.878907</td>\n      <td>37.571805</td>\n    </tr>\n    <tr>\n      <th>...</th>\n      <td>...</td>\n      <td>...</td>\n      <td>...</td>\n      <td>...</td>\n      <td>...</td>\n    </tr>\n    <tr>\n      <th>127</th>\n      <td>용마도시자연공원(사가정공원)</td>\n      <td>109635㎡</td>\n      <td>서울특별시 중랑구 면목7동 산50</td>\n      <td>127.095997</td>\n      <td>37.579762</td>\n    </tr>\n    <tr>\n      <th>128</th>\n      <td>문화비축기지</td>\n      <td>140022㎡</td>\n      <td>서울특별시 마포구 증산로 87</td>\n      <td>126.893246</td>\n      <td>37.571718</td>\n    </tr>\n    <tr>\n      <th>129</th>\n      <td>경춘선숲길</td>\n      <td>211392㎡</td>\n      <td>노원구 공릉2동 산 82-2</td>\n      <td>127.076482</td>\n      <td>37.627077</td>\n    </tr>\n    <tr>\n      <th>130</th>\n      <td>율현공원</td>\n      <td>157535㎡</td>\n      <td>서울특별시 강남구 율현동 밤고개로24길(율현동 56)</td>\n      <td>127.115594</td>\n      <td>37.472332</td>\n    </tr>\n    <tr>\n      <th>131</th>\n      <td>서울로7017</td>\n      <td>NaN</td>\n      <td>서울로7017</td>\n      <td>NaN</td>\n      <td>NaN</td>\n    </tr>\n  </tbody>\n</table>\n<p>132 rows × 5 columns</p>\n</div>",
      "text/plain": "                 공원명                                            면적  \\\n0           남산도시자연공원  2896887㎡ 임 야 : 2454140㎡ 녹지대 및 기타시설 : 442747㎡   \n1             길동생태공원                                        80683㎡   \n2              서울대공원                                     9132690m²   \n3                서울숲                                       480994㎡   \n4              월드컵공원                                      2284085㎡   \n..               ...                                           ...   \n127  용마도시자연공원(사가정공원)                                      109635㎡    \n128           문화비축기지                                       140022㎡   \n129            경춘선숲길                                       211392㎡   \n130             율현공원                                       157535㎡   \n131          서울로7017                                           NaN   \n\n                              공원주소          경도         위도  \n0           서울특별시 중구 삼일대로 231(예장동)  126.990377  37.550140  \n1     서울특별시 강동구 천호대로 1291(길동생태공원)   127.154779  37.540394  \n2               경기도 과천시 대공원광장로 102  127.019846  37.426449  \n3       서울특별시 성동구 뚝섬로 273 (성수동1가)   127.041798  37.543072  \n4        서울특별시 마포구 하늘공원로 84(월드컵공원)  126.878907  37.571805  \n..                             ...         ...        ...  \n127            서울특별시 중랑구 면목7동 산50   127.095997  37.579762  \n128               서울특별시 마포구 증산로 87  126.893246  37.571718  \n129                노원구 공릉2동 산 82-2  127.076482  37.627077  \n130  서울특별시 강남구 율현동 밤고개로24길(율현동 56)  127.115594  37.472332  \n131                        서울로7017         NaN        NaN  \n\n[132 rows x 5 columns]"
     },
     "execution_count": 7,
     "metadata": {},
     "output_type": "execute_result"
    }
   ],
   "source": [
    "# 칼럼 이름 변경\r\n",
    "park.rename(columns={'X좌표(WGS84)':'경도'}, inplace=True)\r\n",
    "park.rename(columns={'Y좌표(WGS84)':'위도'}, inplace=True)\r\n",
    "park"
   ]
  },
  {
   "cell_type": "code",
   "execution_count": 8,
   "metadata": {},
   "outputs": [
    {
     "data": {
      "text/html": "<div>\n<style scoped>\n    .dataframe tbody tr th:only-of-type {\n        vertical-align: middle;\n    }\n\n    .dataframe tbody tr th {\n        vertical-align: top;\n    }\n\n    .dataframe thead th {\n        text-align: right;\n    }\n</style>\n<table border=\"1\" class=\"dataframe\">\n  <thead>\n    <tr style=\"text-align: right;\">\n      <th></th>\n      <th>공원명</th>\n      <th>면적</th>\n      <th>공원주소</th>\n      <th>경도</th>\n      <th>위도</th>\n    </tr>\n  </thead>\n  <tbody>\n    <tr>\n      <th>0</th>\n      <td>남산도시자연공원</td>\n      <td>2896887㎡ 임 야 : 2454140㎡ 녹지대 및 기타시설 : 442747㎡</td>\n      <td>서울특별시 중구 삼일대로 231(예장동)</td>\n      <td>126.990377</td>\n      <td>37.550140</td>\n    </tr>\n    <tr>\n      <th>1</th>\n      <td>길동생태공원</td>\n      <td>80683㎡</td>\n      <td>서울특별시 강동구 천호대로 1291(길동생태공원)</td>\n      <td>127.154779</td>\n      <td>37.540394</td>\n    </tr>\n    <tr>\n      <th>2</th>\n      <td>서울대공원</td>\n      <td>9132690m²</td>\n      <td>경기도 과천시 대공원광장로 102</td>\n      <td>127.019846</td>\n      <td>37.426449</td>\n    </tr>\n    <tr>\n      <th>3</th>\n      <td>서울숲</td>\n      <td>480994㎡</td>\n      <td>서울특별시 성동구 뚝섬로 273 (성수동1가)</td>\n      <td>127.041798</td>\n      <td>37.543072</td>\n    </tr>\n    <tr>\n      <th>4</th>\n      <td>월드컵공원</td>\n      <td>2284085㎡</td>\n      <td>서울특별시 마포구 하늘공원로 84(월드컵공원)</td>\n      <td>126.878907</td>\n      <td>37.571805</td>\n    </tr>\n    <tr>\n      <th>...</th>\n      <td>...</td>\n      <td>...</td>\n      <td>...</td>\n      <td>...</td>\n      <td>...</td>\n    </tr>\n    <tr>\n      <th>126</th>\n      <td>서일대뒷산공원</td>\n      <td>631021㎡</td>\n      <td>서울특별시 중랑구 면목동 산19</td>\n      <td>127.098782</td>\n      <td>37.587716</td>\n    </tr>\n    <tr>\n      <th>127</th>\n      <td>용마도시자연공원(사가정공원)</td>\n      <td>109635㎡</td>\n      <td>서울특별시 중랑구 면목7동 산50</td>\n      <td>127.095997</td>\n      <td>37.579762</td>\n    </tr>\n    <tr>\n      <th>128</th>\n      <td>문화비축기지</td>\n      <td>140022㎡</td>\n      <td>서울특별시 마포구 증산로 87</td>\n      <td>126.893246</td>\n      <td>37.571718</td>\n    </tr>\n    <tr>\n      <th>129</th>\n      <td>경춘선숲길</td>\n      <td>211392㎡</td>\n      <td>노원구 공릉2동 산 82-2</td>\n      <td>127.076482</td>\n      <td>37.627077</td>\n    </tr>\n    <tr>\n      <th>130</th>\n      <td>율현공원</td>\n      <td>157535㎡</td>\n      <td>서울특별시 강남구 율현동 밤고개로24길(율현동 56)</td>\n      <td>127.115594</td>\n      <td>37.472332</td>\n    </tr>\n  </tbody>\n</table>\n<p>129 rows × 5 columns</p>\n</div>",
      "text/plain": "                 공원명                                            면적  \\\n0           남산도시자연공원  2896887㎡ 임 야 : 2454140㎡ 녹지대 및 기타시설 : 442747㎡   \n1             길동생태공원                                        80683㎡   \n2              서울대공원                                     9132690m²   \n3                서울숲                                       480994㎡   \n4              월드컵공원                                      2284085㎡   \n..               ...                                           ...   \n126          서일대뒷산공원                                      631021㎡    \n127  용마도시자연공원(사가정공원)                                      109635㎡    \n128           문화비축기지                                       140022㎡   \n129            경춘선숲길                                       211392㎡   \n130             율현공원                                       157535㎡   \n\n                              공원주소          경도         위도  \n0           서울특별시 중구 삼일대로 231(예장동)  126.990377  37.550140  \n1     서울특별시 강동구 천호대로 1291(길동생태공원)   127.154779  37.540394  \n2               경기도 과천시 대공원광장로 102  127.019846  37.426449  \n3       서울특별시 성동구 뚝섬로 273 (성수동1가)   127.041798  37.543072  \n4        서울특별시 마포구 하늘공원로 84(월드컵공원)  126.878907  37.571805  \n..                             ...         ...        ...  \n126              서울특별시 중랑구 면목동 산19  127.098782  37.587716  \n127            서울특별시 중랑구 면목7동 산50   127.095997  37.579762  \n128               서울특별시 마포구 증산로 87  126.893246  37.571718  \n129                노원구 공릉2동 산 82-2  127.076482  37.627077  \n130  서울특별시 강남구 율현동 밤고개로24길(율현동 56)  127.115594  37.472332  \n\n[129 rows x 5 columns]"
     },
     "execution_count": 8,
     "metadata": {},
     "output_type": "execute_result"
    }
   ],
   "source": [
    "# 널 값 제거\r\n",
    "park=park.dropna(axis=0)\r\n",
    "park"
   ]
  },
  {
   "cell_type": "code",
   "execution_count": 9,
   "metadata": {},
   "outputs": [
    {
     "data": {
      "text/plain": "'서울특별시 중구 삼일대로 231(예장동)'"
     },
     "execution_count": 9,
     "metadata": {},
     "output_type": "execute_result"
    }
   ],
   "source": [
    "# addr -> str 으로 변환\r\n",
    "addr = park['공원주소'].str.replace(',','')[0]\r\n",
    "addr"
   ]
  },
  {
   "cell_type": "code",
   "execution_count": 10,
   "metadata": {},
   "outputs": [],
   "source": [
    "park.to_csv('addr_non.csv', index=False, sep=',',encoding='utf8')"
   ]
  },
  {
   "cell_type": "code",
   "execution_count": 11,
   "metadata": {},
   "outputs": [
    {
     "data": {
      "text/html": "<div>\n<style scoped>\n    .dataframe tbody tr th:only-of-type {\n        vertical-align: middle;\n    }\n\n    .dataframe tbody tr th {\n        vertical-align: top;\n    }\n\n    .dataframe thead th {\n        text-align: right;\n    }\n</style>\n<table border=\"1\" class=\"dataframe\">\n  <thead>\n    <tr style=\"text-align: right;\">\n      <th></th>\n      <th>공원명</th>\n      <th>면적</th>\n      <th>공원주소</th>\n      <th>경도</th>\n      <th>위도</th>\n    </tr>\n  </thead>\n  <tbody>\n    <tr>\n      <th>0</th>\n      <td>남산도시자연공원</td>\n      <td>2896887㎡ 임 야 : 2454140㎡ 녹지대 및 기타시설 : 442747㎡</td>\n      <td>서울특별시 중구 삼일대로 231(예장동)</td>\n      <td>126.990377</td>\n      <td>37.550140</td>\n    </tr>\n    <tr>\n      <th>1</th>\n      <td>길동생태공원</td>\n      <td>80683㎡</td>\n      <td>서울특별시 강동구 천호대로 1291(길동생태공원)</td>\n      <td>127.154779</td>\n      <td>37.540394</td>\n    </tr>\n    <tr>\n      <th>2</th>\n      <td>서울대공원</td>\n      <td>9132690m²</td>\n      <td>경기도 과천시 대공원광장로 102</td>\n      <td>127.019846</td>\n      <td>37.426449</td>\n    </tr>\n    <tr>\n      <th>3</th>\n      <td>서울숲</td>\n      <td>480994㎡</td>\n      <td>서울특별시 성동구 뚝섬로 273 (성수동1가)</td>\n      <td>127.041798</td>\n      <td>37.543072</td>\n    </tr>\n    <tr>\n      <th>4</th>\n      <td>월드컵공원</td>\n      <td>2284085㎡</td>\n      <td>서울특별시 마포구 하늘공원로 84(월드컵공원)</td>\n      <td>126.878907</td>\n      <td>37.571805</td>\n    </tr>\n    <tr>\n      <th>...</th>\n      <td>...</td>\n      <td>...</td>\n      <td>...</td>\n      <td>...</td>\n      <td>...</td>\n    </tr>\n    <tr>\n      <th>124</th>\n      <td>서일대뒷산공원</td>\n      <td>631021㎡</td>\n      <td>서울특별시 중랑구 면목동 산19</td>\n      <td>127.098782</td>\n      <td>37.587716</td>\n    </tr>\n    <tr>\n      <th>125</th>\n      <td>용마도시자연공원(사가정공원)</td>\n      <td>109635㎡</td>\n      <td>서울특별시 중랑구 면목7동 산50</td>\n      <td>127.095997</td>\n      <td>37.579762</td>\n    </tr>\n    <tr>\n      <th>126</th>\n      <td>문화비축기지</td>\n      <td>140022㎡</td>\n      <td>서울특별시 마포구 증산로 87</td>\n      <td>126.893246</td>\n      <td>37.571718</td>\n    </tr>\n    <tr>\n      <th>127</th>\n      <td>경춘선숲길</td>\n      <td>211392㎡</td>\n      <td>노원구 공릉2동 산 82-2</td>\n      <td>127.076482</td>\n      <td>37.627077</td>\n    </tr>\n    <tr>\n      <th>128</th>\n      <td>율현공원</td>\n      <td>157535㎡</td>\n      <td>서울특별시 강남구 율현동 밤고개로24길(율현동 56)</td>\n      <td>127.115594</td>\n      <td>37.472332</td>\n    </tr>\n  </tbody>\n</table>\n<p>129 rows × 5 columns</p>\n</div>",
      "text/plain": "                 공원명                                            면적  \\\n0           남산도시자연공원  2896887㎡ 임 야 : 2454140㎡ 녹지대 및 기타시설 : 442747㎡   \n1             길동생태공원                                        80683㎡   \n2              서울대공원                                     9132690m²   \n3                서울숲                                       480994㎡   \n4              월드컵공원                                      2284085㎡   \n..               ...                                           ...   \n124          서일대뒷산공원                                      631021㎡    \n125  용마도시자연공원(사가정공원)                                      109635㎡    \n126           문화비축기지                                       140022㎡   \n127            경춘선숲길                                       211392㎡   \n128             율현공원                                       157535㎡   \n\n                              공원주소          경도         위도  \n0           서울특별시 중구 삼일대로 231(예장동)  126.990377  37.550140  \n1     서울특별시 강동구 천호대로 1291(길동생태공원)   127.154779  37.540394  \n2               경기도 과천시 대공원광장로 102  127.019846  37.426449  \n3       서울특별시 성동구 뚝섬로 273 (성수동1가)   127.041798  37.543072  \n4        서울특별시 마포구 하늘공원로 84(월드컵공원)  126.878907  37.571805  \n..                             ...         ...        ...  \n124              서울특별시 중랑구 면목동 산19  127.098782  37.587716  \n125            서울특별시 중랑구 면목7동 산50   127.095997  37.579762  \n126               서울특별시 마포구 증산로 87  126.893246  37.571718  \n127                노원구 공릉2동 산 82-2  127.076482  37.627077  \n128  서울특별시 강남구 율현동 밤고개로24길(율현동 56)  127.115594  37.472332  \n\n[129 rows x 5 columns]"
     },
     "execution_count": 11,
     "metadata": {},
     "output_type": "execute_result"
    }
   ],
   "source": [
    "df_non = pd.read_csv('addr_non.csv')\r\n",
    "df_non"
   ]
  },
  {
   "cell_type": "code",
   "execution_count": 19,
   "metadata": {},
   "outputs": [
    {
     "data": {
      "text/plain": "Index(['공원명', '면적', '공원주소', '경도', '위도'], dtype='object')"
     },
     "execution_count": 19,
     "metadata": {},
     "output_type": "execute_result"
    }
   ],
   "source": [
    "df_non.columns"
   ]
  },
  {
   "cell_type": "code",
   "execution_count": 16,
   "metadata": {},
   "outputs": [],
   "source": [
    "import matplotlib.pyplot as plt\r\n",
    "from IPython.display import set_matplotlib_formats\r\n",
    "\r\n",
    "# Window 의 한글 폰트 설정\r\n",
    "# plt.rc('font',family='Malgun Gothic')\r\n",
    "# Mac 의 한글 폰트 설정\r\n",
    "plt.rc('font', family='AppleGothic') \r\n",
    "plt.rc('axes', unicode_minus=False)\r\n",
    "\r\n",
    "set_matplotlib_formats('retina')"
   ]
  },
  {
   "cell_type": "code",
   "execution_count": 23,
   "metadata": {},
   "outputs": [
    {
     "ename": "ValueError",
     "evalue": "The truth value of a Series is ambiguous. Use a.empty, a.bool(), a.item(), a.any() or a.all().",
     "output_type": "error",
     "traceback": [
      "\u001b[1;31m---------------------------------------------------------------------------\u001b[0m",
      "\u001b[1;31mValueError\u001b[0m                                Traceback (most recent call last)",
      "\u001b[1;32m<ipython-input-23-412548a5fda7>\u001b[0m in \u001b[0;36m<module>\u001b[1;34m\u001b[0m\n\u001b[0;32m      7\u001b[0m     \u001b[0mpark_name\u001b[0m \u001b[1;33m=\u001b[0m \u001b[0mdf_non\u001b[0m\u001b[1;33m[\u001b[0m\u001b[1;34m'공원명'\u001b[0m\u001b[1;33m]\u001b[0m \u001b[1;33m+\u001b[0m \u001b[1;34m' - '\u001b[0m \u001b[1;33m+\u001b[0m \u001b[0mdf_non\u001b[0m\u001b[1;33m[\u001b[0m\u001b[1;34m'공원주소'\u001b[0m\u001b[1;33m]\u001b[0m\u001b[1;33m\u001b[0m\u001b[1;33m\u001b[0m\u001b[0m\n\u001b[0;32m      8\u001b[0m     \u001b[0micon_color\u001b[0m \u001b[1;33m=\u001b[0m \u001b[1;34m'red'\u001b[0m\u001b[1;33m\u001b[0m\u001b[1;33m\u001b[0m\u001b[0m\n\u001b[1;32m----> 9\u001b[1;33m     folium.features.CircleMarker(\n\u001b[0m\u001b[0;32m     10\u001b[0m         \u001b[0mlocation\u001b[0m\u001b[1;33m=\u001b[0m\u001b[1;33m[\u001b[0m\u001b[0mdf_non\u001b[0m\u001b[1;33m[\u001b[0m\u001b[1;34m'위도'\u001b[0m\u001b[1;33m]\u001b[0m\u001b[1;33m[\u001b[0m\u001b[0mi\u001b[0m\u001b[1;33m]\u001b[0m\u001b[1;33m,\u001b[0m\u001b[0mdf_non\u001b[0m\u001b[1;33m[\u001b[0m\u001b[1;34m'경도'\u001b[0m\u001b[1;33m]\u001b[0m\u001b[1;33m[\u001b[0m\u001b[0mi\u001b[0m\u001b[1;33m]\u001b[0m\u001b[1;33m]\u001b[0m\u001b[1;33m,\u001b[0m\u001b[1;33m\u001b[0m\u001b[1;33m\u001b[0m\u001b[0m\n\u001b[0;32m     11\u001b[0m                         \u001b[0mradius\u001b[0m\u001b[1;33m=\u001b[0m\u001b[0mdf_non\u001b[0m\u001b[1;33m[\u001b[0m\u001b[1;34m'면적'\u001b[0m\u001b[1;33m]\u001b[0m\u001b[1;33m,\u001b[0m\u001b[1;33m\u001b[0m\u001b[1;33m\u001b[0m\u001b[0m\n",
      "\u001b[1;32m~\\miniconda3\\lib\\site-packages\\folium\\vector_layers.py\u001b[0m in \u001b[0;36m__init__\u001b[1;34m(self, location, radius, popup, tooltip, **kwargs)\u001b[0m\n\u001b[0;32m    305\u001b[0m                                            tooltip=tooltip)\n\u001b[0;32m    306\u001b[0m         \u001b[0mself\u001b[0m\u001b[1;33m.\u001b[0m\u001b[0m_name\u001b[0m \u001b[1;33m=\u001b[0m \u001b[1;34m'CircleMarker'\u001b[0m\u001b[1;33m\u001b[0m\u001b[1;33m\u001b[0m\u001b[0m\n\u001b[1;32m--> 307\u001b[1;33m         \u001b[0mself\u001b[0m\u001b[1;33m.\u001b[0m\u001b[0moptions\u001b[0m \u001b[1;33m=\u001b[0m \u001b[0mpath_options\u001b[0m\u001b[1;33m(\u001b[0m\u001b[0mline\u001b[0m\u001b[1;33m=\u001b[0m\u001b[1;32mFalse\u001b[0m\u001b[1;33m,\u001b[0m \u001b[0mradius\u001b[0m\u001b[1;33m=\u001b[0m\u001b[0mradius\u001b[0m\u001b[1;33m,\u001b[0m \u001b[1;33m**\u001b[0m\u001b[0mkwargs\u001b[0m\u001b[1;33m)\u001b[0m\u001b[1;33m\u001b[0m\u001b[1;33m\u001b[0m\u001b[0m\n\u001b[0m",
      "\u001b[1;32m~\\miniconda3\\lib\\site-packages\\folium\\vector_layers.py\u001b[0m in \u001b[0;36mpath_options\u001b[1;34m(line, radius, **kwargs)\u001b[0m\n\u001b[0;32m     70\u001b[0m             \u001b[1;34m'noClip'\u001b[0m\u001b[1;33m:\u001b[0m \u001b[0mkwargs\u001b[0m\u001b[1;33m.\u001b[0m\u001b[0mpop\u001b[0m\u001b[1;33m(\u001b[0m\u001b[1;34m'no_clip'\u001b[0m\u001b[1;33m,\u001b[0m \u001b[1;32mFalse\u001b[0m\u001b[1;33m)\u001b[0m\u001b[1;33m,\u001b[0m\u001b[1;33m\u001b[0m\u001b[1;33m\u001b[0m\u001b[0m\n\u001b[0;32m     71\u001b[0m         }\n\u001b[1;32m---> 72\u001b[1;33m     \u001b[1;32mif\u001b[0m \u001b[0mradius\u001b[0m\u001b[1;33m:\u001b[0m\u001b[1;33m\u001b[0m\u001b[1;33m\u001b[0m\u001b[0m\n\u001b[0m\u001b[0;32m     73\u001b[0m         \u001b[0mextra_options\u001b[0m\u001b[1;33m.\u001b[0m\u001b[0mupdate\u001b[0m\u001b[1;33m(\u001b[0m\u001b[1;33m{\u001b[0m\u001b[1;34m'radius'\u001b[0m\u001b[1;33m:\u001b[0m \u001b[0mradius\u001b[0m\u001b[1;33m}\u001b[0m\u001b[1;33m)\u001b[0m\u001b[1;33m\u001b[0m\u001b[1;33m\u001b[0m\u001b[0m\n\u001b[0;32m     74\u001b[0m \u001b[1;33m\u001b[0m\u001b[0m\n",
      "\u001b[1;32m~\\miniconda3\\lib\\site-packages\\pandas\\core\\generic.py\u001b[0m in \u001b[0;36m__nonzero__\u001b[1;34m(self)\u001b[0m\n\u001b[0;32m   1440\u001b[0m     \u001b[1;33m@\u001b[0m\u001b[0mfinal\u001b[0m\u001b[1;33m\u001b[0m\u001b[1;33m\u001b[0m\u001b[0m\n\u001b[0;32m   1441\u001b[0m     \u001b[1;32mdef\u001b[0m \u001b[0m__nonzero__\u001b[0m\u001b[1;33m(\u001b[0m\u001b[0mself\u001b[0m\u001b[1;33m)\u001b[0m\u001b[1;33m:\u001b[0m\u001b[1;33m\u001b[0m\u001b[1;33m\u001b[0m\u001b[0m\n\u001b[1;32m-> 1442\u001b[1;33m         raise ValueError(\n\u001b[0m\u001b[0;32m   1443\u001b[0m             \u001b[1;34mf\"The truth value of a {type(self).__name__} is ambiguous. \"\u001b[0m\u001b[1;33m\u001b[0m\u001b[1;33m\u001b[0m\u001b[0m\n\u001b[0;32m   1444\u001b[0m             \u001b[1;34m\"Use a.empty, a.bool(), a.item(), a.any() or a.all().\"\u001b[0m\u001b[1;33m\u001b[0m\u001b[1;33m\u001b[0m\u001b[0m\n",
      "\u001b[1;31mValueError\u001b[0m: The truth value of a Series is ambiguous. Use a.empty, a.bool(), a.item(), a.any() or a.all()."
     ]
    }
   ],
   "source": [
    "import folium\r\n",
    "import matplotlib as mpl\r\n",
    "\r\n",
    "map = folium.Map(location=[df_non['위도'].mean(), df_non['경도'].mean()], zoom_start =10)\r\n",
    "\r\n",
    "for i in df_non.index:\r\n",
    "    park_name = df_non['공원명'] + ' - ' + df_non['공원주소']\r\n",
    "    icon_color = 'red'\r\n",
    "    folium.features.CircleMarker(\r\n",
    "        location=[df_non['위도'][i],df_non['경도'][i]], \r\n",
    "                        radius=df_non['면적'],\r\n",
    "                        popup=park_name,\r\n",
    "                        color= icon_color,\r\n",
    "                        fill=True,\r\n",
    "                        fill_color=icon_color\r\n",
    "    ).add_to(map)\r\n",
    "title_html = '<h3 align=\"center\" style=\"font-size:20px\"><b>서울시 공원면적 비교</b></h3>'\r\n",
    "map.get_root().html.add_child(folium.Element(title_html))\r\n",
    "map"
   ]
  },
  {
   "cell_type": "code",
   "execution_count": null,
   "metadata": {},
   "outputs": [],
   "source": []
  }
 ],
 "metadata": {
  "kernelspec": {
   "display_name": "Python 3.8.5 64-bit ('base': conda)",
   "name": "python385jvsc74a57bd08c1eae21719a0790335dcb83aad72b63b602cfe5cdb2bda0f60bc11d4f154e4b"
  },
  "language_info": {
   "codemirror_mode": {
    "name": "ipython",
    "version": 3
   },
   "file_extension": ".py",
   "mimetype": "text/x-python",
   "name": "python",
   "nbconvert_exporter": "python",
   "pygments_lexer": "ipython3",
   "version": "3.8.5"
  },
  "orig_nbformat": 2
 },
 "nbformat": 4,
 "nbformat_minor": 2
}
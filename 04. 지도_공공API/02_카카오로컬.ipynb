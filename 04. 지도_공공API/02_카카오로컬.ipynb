{
 "cells": [
  {
   "cell_type": "markdown",
   "metadata": {},
   "source": [
    "# 카카오맵 API\r\n",
    "## 도로명주소로부터 위도, 경도 정보 구하기\r\n",
    "## [참고] https://developers.kakao.com/docs/latest/ko/local/dev-guide"
   ]
  },
  {
   "cell_type": "code",
   "execution_count": 2,
   "metadata": {},
   "outputs": [],
   "source": [
    "import requests\r\n",
    "from urllib.parse import urlparse, quote\r\n",
    "import pandas as pd"
   ]
  },
  {
   "cell_type": "code",
   "execution_count": 3,
   "metadata": {},
   "outputs": [],
   "source": [
    "with open('kakaoapi.txt', mode='r') as key_file:\r\n",
    "    kakao_key = key_file.read()"
   ]
  },
  {
   "cell_type": "code",
   "execution_count": 10,
   "metadata": {},
   "outputs": [
    {
     "data": {
      "text/plain": "32"
     },
     "execution_count": 10,
     "metadata": {},
     "output_type": "execute_result"
    }
   ],
   "source": [
    "len(kakao_key)"
   ]
  },
  {
   "cell_type": "code",
   "execution_count": 7,
   "metadata": {},
   "outputs": [
    {
     "data": {
      "text/plain": "'https://dapi.kakao.com/v2/local/search/address.json?query=%EC%84%9C%EC%9A%B8%ED%8A%B9%EB%B3%84%EC%8B%9C%20%EC%84%B1%EB%8F%99%EA%B5%AC%20%EA%B8%88%ED%98%B8%EB%8F%991%EA%B0%80%20%EC%82%B01-72'"
     },
     "execution_count": 7,
     "metadata": {},
     "output_type": "execute_result"
    }
   ],
   "source": [
    "addr = '서울특별시 성동구 금호동1가 산1-72'\r\n",
    "local_url = 'https://dapi.kakao.com/v2/local/search/address.json'\r\n",
    "url = f'{local_url}?query={quote(addr)}'\r\n",
    "url"
   ]
  },
  {
   "cell_type": "code",
   "execution_count": 5,
   "metadata": {},
   "outputs": [
    {
     "data": {
      "text/plain": "str"
     },
     "execution_count": 5,
     "metadata": {},
     "output_type": "execute_result"
    }
   ],
   "source": [
    "type(addr)"
   ]
  },
  {
   "cell_type": "code",
   "execution_count": 8,
   "metadata": {},
   "outputs": [
    {
     "data": {
      "text/plain": "{'documents': [],\n 'meta': {'is_end': True, 'pageable_count': 0, 'total_count': 0}}"
     },
     "execution_count": 8,
     "metadata": {},
     "output_type": "execute_result"
    }
   ],
   "source": [
    "# \"Authorization: KakaoAK {REST_API_KEY}\"\r\n",
    "result = requests.get(url, headers={\"Authorization\" : f\"KakaoAK {kakao_key}\"}).json()\r\n",
    "result"
   ]
  },
  {
   "cell_type": "code",
   "execution_count": 18,
   "metadata": {},
   "outputs": [
    {
     "data": {
      "text/plain": "('126.967109652664', '37.5598688323642')"
     },
     "execution_count": 18,
     "metadata": {},
     "output_type": "execute_result"
    }
   ],
   "source": [
    "lng = result['documents'][0]['x']\r\n",
    "lat = result['documents'][0]['y']\r\n",
    "lng, lat"
   ]
  },
  {
   "cell_type": "markdown",
   "metadata": {},
   "source": [
    "## addr.csv로부터 주소를 읽어서 위도, 경도 정보를 추가한 뒤 addr2.csv에 저장"
   ]
  },
  {
   "cell_type": "code",
   "execution_count": 19,
   "metadata": {},
   "outputs": [
    {
     "data": {
      "text/html": "<div>\n<style scoped>\n    .dataframe tbody tr th:only-of-type {\n        vertical-align: middle;\n    }\n\n    .dataframe tbody tr th {\n        vertical-align: top;\n    }\n\n    .dataframe thead th {\n        text-align: right;\n    }\n</style>\n<table border=\"1\" class=\"dataframe\">\n  <thead>\n    <tr style=\"text-align: right;\">\n      <th></th>\n      <th>건물명</th>\n      <th>주소</th>\n    </tr>\n  </thead>\n  <tbody>\n    <tr>\n      <th>0</th>\n      <td>한국경제신문사</td>\n      <td>서울특별시 중구 청파로 463 (중림동)</td>\n    </tr>\n    <tr>\n      <th>1</th>\n      <td>서울특별시청</td>\n      <td>서울특별시 중구 세종대로 110 (태평로1가)</td>\n    </tr>\n    <tr>\n      <th>2</th>\n      <td>종로구청</td>\n      <td>서울특별시 종로구 종로1길 36 (수송동)</td>\n    </tr>\n    <tr>\n      <th>3</th>\n      <td>중구청</td>\n      <td>서울특별시 중구 창경궁로 17 (예관동)</td>\n    </tr>\n    <tr>\n      <th>4</th>\n      <td>효창공원</td>\n      <td>서울특별시 용산구 효창원로 177-18 (효창동)</td>\n    </tr>\n  </tbody>\n</table>\n</div>",
      "text/plain": "       건물명                           주소\n0  한국경제신문사       서울특별시 중구 청파로 463 (중림동)\n1   서울특별시청    서울특별시 중구 세종대로 110 (태평로1가)\n2     종로구청      서울특별시 종로구 종로1길 36 (수송동)\n3      중구청       서울특별시 중구 창경궁로 17 (예관동)\n4     효창공원  서울특별시 용산구 효창원로 177-18 (효창동)"
     },
     "execution_count": 19,
     "metadata": {},
     "output_type": "execute_result"
    }
   ],
   "source": [
    "df = pd.read_csv('addr.csv')\r\n",
    "df"
   ]
  },
  {
   "cell_type": "code",
   "execution_count": 22,
   "metadata": {},
   "outputs": [],
   "source": [
    "lng_list, lat_list = [], []\r\n",
    "for i in df.index:\r\n",
    "    url = f\"{local_url}?query={quote(df['주소'][i])}\"  # 주소의 i번째\r\n",
    "    result = requests.get(url, headers={\"Authorization\" : f\"KakaoAK {kakao_key}\"}).json()\r\n",
    "    lng = result['documents'][0]['x']\r\n",
    "    lat = result['documents'][0]['y']\r\n",
    "    lng_list.append(lng)\r\n",
    "    lat_list.append(lat)"
   ]
  },
  {
   "cell_type": "code",
   "execution_count": 23,
   "metadata": {},
   "outputs": [
    {
     "data": {
      "text/html": "<div>\n<style scoped>\n    .dataframe tbody tr th:only-of-type {\n        vertical-align: middle;\n    }\n\n    .dataframe tbody tr th {\n        vertical-align: top;\n    }\n\n    .dataframe thead th {\n        text-align: right;\n    }\n</style>\n<table border=\"1\" class=\"dataframe\">\n  <thead>\n    <tr style=\"text-align: right;\">\n      <th></th>\n      <th>건물명</th>\n      <th>주소</th>\n      <th>위도</th>\n      <th>경도</th>\n    </tr>\n  </thead>\n  <tbody>\n    <tr>\n      <th>0</th>\n      <td>한국경제신문사</td>\n      <td>서울특별시 중구 청파로 463 (중림동)</td>\n      <td>37.5598688323642</td>\n      <td>126.967109652664</td>\n    </tr>\n    <tr>\n      <th>1</th>\n      <td>서울특별시청</td>\n      <td>서울특별시 중구 세종대로 110 (태평로1가)</td>\n      <td>37.5663174209601</td>\n      <td>126.977829174031</td>\n    </tr>\n    <tr>\n      <th>2</th>\n      <td>종로구청</td>\n      <td>서울특별시 종로구 종로1길 36 (수송동)</td>\n      <td>37.5735051436739</td>\n      <td>126.978988255925</td>\n    </tr>\n    <tr>\n      <th>3</th>\n      <td>중구청</td>\n      <td>서울특별시 중구 창경궁로 17 (예관동)</td>\n      <td>37.5641201543296</td>\n      <td>126.998009728978</td>\n    </tr>\n    <tr>\n      <th>4</th>\n      <td>효창공원</td>\n      <td>서울특별시 용산구 효창원로 177-18 (효창동)</td>\n      <td>37.544957405495</td>\n      <td>126.962290943049</td>\n    </tr>\n  </tbody>\n</table>\n</div>",
      "text/plain": "       건물명                           주소                위도                경도\n0  한국경제신문사       서울특별시 중구 청파로 463 (중림동)  37.5598688323642  126.967109652664\n1   서울특별시청    서울특별시 중구 세종대로 110 (태평로1가)  37.5663174209601  126.977829174031\n2     종로구청      서울특별시 종로구 종로1길 36 (수송동)  37.5735051436739  126.978988255925\n3      중구청       서울특별시 중구 창경궁로 17 (예관동)  37.5641201543296  126.998009728978\n4     효창공원  서울특별시 용산구 효창원로 177-18 (효창동)   37.544957405495  126.962290943049"
     },
     "execution_count": 23,
     "metadata": {},
     "output_type": "execute_result"
    }
   ],
   "source": [
    "df['위도'] = lat_list\r\n",
    "df['경도'] = lng_list\r\n",
    "df"
   ]
  },
  {
   "cell_type": "code",
   "execution_count": 24,
   "metadata": {},
   "outputs": [],
   "source": [
    "df.to_csv('addr2.csv', index=False, sep=',',encoding='utf8')"
   ]
  }
 ],
 "metadata": {
  "kernelspec": {
   "display_name": "Python 3.8.5 64-bit ('base': conda)",
   "name": "python385jvsc74a57bd08c1eae21719a0790335dcb83aad72b63b602cfe5cdb2bda0f60bc11d4f154e4b"
  },
  "language_info": {
   "name": "python",
   "version": ""
  },
  "orig_nbformat": 2
 },
 "nbformat": 4,
 "nbformat_minor": 2
}
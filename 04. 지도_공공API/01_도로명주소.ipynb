{
 "cells": [
  {
   "cell_type": "markdown",
   "metadata": {},
   "source": [
    "# 행정안전부 도로명주소 API\r\n",
    "## 건물명으로부터 도로명주소 구하기"
   ]
  },
  {
   "cell_type": "code",
   "execution_count": 4,
   "metadata": {},
   "outputs": [],
   "source": [
    "### key_fd = open('roadapikey.txt', mode='r')\r\n",
    "### roadapi_key = key_fd.read(100)\r\n",
    "### key_fd.close()"
   ]
  },
  {
   "cell_type": "code",
   "execution_count": 14,
   "metadata": {},
   "outputs": [],
   "source": [
    "import requests\r\n",
    "from urllib.parse import urlparse, quote\r\n",
    "import pandas as pd"
   ]
  },
  {
   "cell_type": "code",
   "execution_count": 24,
   "metadata": {},
   "outputs": [],
   "source": [
    "with open('roadapikey.txt', mode='r') as key_file:\r\n",
    "    road_key = key_file.read()"
   ]
  },
  {
   "cell_type": "code",
   "execution_count": 27,
   "metadata": {},
   "outputs": [
    {
     "data": {
      "text/plain": "'https://www.juso.go.kr/addrlink/addrLinkApi.do?confmKey=devU01TX0FVVEgyMDIxMDYwMzE2MDMxNzExMTIzOTk=&currentPage=1&countPerPage=10&keyword=%ED%95%9C%EA%B5%AD%EA%B2%BD%EC%A0%9C%EC%8B%A0%EB%AC%B8%EC%82%AC&resultType=json'"
     },
     "execution_count": 27,
     "metadata": {},
     "output_type": "execute_result"
    }
   ],
   "source": [
    "road_url = 'https://www.juso.go.kr/addrlink/addrLinkApi.do'\r\n",
    "url = f\"{road_url}?confmKey={road_key}&currentPage=1&countPerPage=10&keyword={quote('한국경제신문사')}&resultType=json\"\r\n",
    "url"
   ]
  },
  {
   "cell_type": "code",
   "execution_count": 21,
   "metadata": {},
   "outputs": [
    {
     "data": {
      "text/plain": "'%ED%95%9C%EA%B5%AD%EA%B2%BD%EC%A0%9C%EC%8B%A0%EB%AC%B8%EC%82%AC'"
     },
     "execution_count": 21,
     "metadata": {},
     "output_type": "execute_result"
    }
   ],
   "source": [
    "quote('한국경제신문사')"
   ]
  },
  {
   "cell_type": "code",
   "execution_count": 28,
   "metadata": {},
   "outputs": [
    {
     "data": {
      "text/plain": "{'results': {'common': {'errorMessage': '정상',\n   'countPerPage': '10',\n   'totalCount': '1',\n   'errorCode': '0',\n   'currentPage': '1'},\n  'juso': [{'detBdNmList': '',\n    'engAddr': '463, Cheongpa-ro, Jung-gu, Seoul',\n    'rn': '청파로',\n    'emdNm': '중림동',\n    'zipNo': '04505',\n    'roadAddrPart2': ' (중림동)',\n    'emdNo': '02',\n    'sggNm': '중구',\n    'jibunAddr': '서울특별시 중구 중림동 441 한국경제신문사',\n    'siNm': '서울특별시',\n    'roadAddrPart1': '서울특별시 중구 청파로 463',\n    'bdNm': '한국경제신문사',\n    'admCd': '1114017100',\n    'udrtYn': '0',\n    'lnbrMnnm': '441',\n    'roadAddr': '서울특별시 중구 청파로 463 (중림동)',\n    'lnbrSlno': '0',\n    'buldMnnm': '463',\n    'bdKdcd': '0',\n    'liNm': '',\n    'rnMgtSn': '111403101023',\n    'mtYn': '0',\n    'bdMgtSn': '1114017100104410000000321',\n    'buldSlno': '0'}]}}"
     },
     "execution_count": 28,
     "metadata": {},
     "output_type": "execute_result"
    }
   ],
   "source": [
    "result = requests.get(url).json()\r\n",
    "result"
   ]
  },
  {
   "cell_type": "code",
   "execution_count": 34,
   "metadata": {},
   "outputs": [
    {
     "data": {
      "text/plain": "{'detBdNmList': '',\n 'engAddr': '463, Cheongpa-ro, Jung-gu, Seoul',\n 'rn': '청파로',\n 'emdNm': '중림동',\n 'zipNo': '04505',\n 'roadAddrPart2': ' (중림동)',\n 'emdNo': '02',\n 'sggNm': '중구',\n 'jibunAddr': '서울특별시 중구 중림동 441 한국경제신문사',\n 'siNm': '서울특별시',\n 'roadAddrPart1': '서울특별시 중구 청파로 463',\n 'bdNm': '한국경제신문사',\n 'admCd': '1114017100',\n 'udrtYn': '0',\n 'lnbrMnnm': '441',\n 'roadAddr': '서울특별시 중구 청파로 463 (중림동)',\n 'lnbrSlno': '0',\n 'buldMnnm': '463',\n 'bdKdcd': '0',\n 'liNm': '',\n 'rnMgtSn': '111403101023',\n 'mtYn': '0',\n 'bdMgtSn': '1114017100104410000000321',\n 'buldSlno': '0'}"
     },
     "execution_count": 34,
     "metadata": {},
     "output_type": "execute_result"
    }
   ],
   "source": [
    "result['results']['juso'][0]  # [0]로 리스트 제거"
   ]
  },
  {
   "cell_type": "code",
   "execution_count": 35,
   "metadata": {},
   "outputs": [
    {
     "data": {
      "text/plain": "('한국경제신문사', '서울특별시 중구 청파로 463 (중림동)')"
     },
     "execution_count": 35,
     "metadata": {},
     "output_type": "execute_result"
    }
   ],
   "source": [
    "building_name = result['results']['juso'][0]['bdNm']\r\n",
    "road_add =result['results']['juso'][0]['roadAddr']\r\n",
    "building_name, road_add"
   ]
  }
 ],
 "metadata": {
  "kernelspec": {
   "display_name": "Python 3.8.5 64-bit ('base': conda)",
   "name": "python385jvsc74a57bd08c1eae21719a0790335dcb83aad72b63b602cfe5cdb2bda0f60bc11d4f154e4b"
  },
  "language_info": {
   "codemirror_mode": {
    "name": "ipython",
    "version": 3
   },
   "file_extension": ".py",
   "mimetype": "text/x-python",
   "name": "python",
   "nbconvert_exporter": "python",
   "pygments_lexer": "ipython3",
   "version": "3.8.5"
  },
  "orig_nbformat": 2
 },
 "nbformat": 4,
 "nbformat_minor": 2
}
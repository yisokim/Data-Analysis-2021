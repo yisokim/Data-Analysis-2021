{
 "cells": [
  {
   "cell_type": "code",
   "execution_count": 1,
   "metadata": {},
   "outputs": [],
   "source": [
    "import json\r\n",
    "import folium\r\n",
    "import warnings\r\n",
    "warnings.simplefilter(action='ignore',category=FutureWarning)\r\n",
    "import numpy as np\r\n",
    "import pandas as pd"
   ]
  },
  {
   "cell_type": "code",
   "execution_count": 3,
   "metadata": {},
   "outputs": [],
   "source": [
    "geo_path = 'skorea_municipalities_geo_simple.json'\r\n",
    "geo_data = json.load(open(geo_path,encoding='utf-8'))"
   ]
  },
  {
   "cell_type": "code",
   "execution_count": 5,
   "metadata": {},
   "outputs": [
    {
     "data": {
      "text/html": [
       "<div>\n",
       "<style scoped>\n",
       "    .dataframe tbody tr th:only-of-type {\n",
       "        vertical-align: middle;\n",
       "    }\n",
       "\n",
       "    .dataframe tbody tr th {\n",
       "        vertical-align: top;\n",
       "    }\n",
       "\n",
       "    .dataframe thead th {\n",
       "        text-align: right;\n",
       "    }\n",
       "</style>\n",
       "<table border=\"1\" class=\"dataframe\">\n",
       "  <thead>\n",
       "    <tr style=\"text-align: right;\">\n",
       "      <th></th>\n",
       "      <th>분류</th>\n",
       "      <th>명칭</th>\n",
       "      <th>주소</th>\n",
       "      <th>행정 시</th>\n",
       "      <th>행정 구</th>\n",
       "      <th>행정 동</th>\n",
       "      <th>X 좌표</th>\n",
       "      <th>Y 좌표</th>\n",
       "    </tr>\n",
       "  </thead>\n",
       "  <tbody>\n",
       "    <tr>\n",
       "      <th>0</th>\n",
       "      <td>문화재유산|문화재구분|조형물</td>\n",
       "      <td>3.1독립기념탑</td>\n",
       "      <td>서울특별시 종로구 종로2가 38 탑골공원 내</td>\n",
       "      <td>서울특별시</td>\n",
       "      <td>종로구</td>\n",
       "      <td>종로1.2.3.4가동</td>\n",
       "      <td>126.988348</td>\n",
       "      <td>37.571206</td>\n",
       "    </tr>\n",
       "    <tr>\n",
       "      <th>1</th>\n",
       "      <td>문화재유산|문화재구분|가옥</td>\n",
       "      <td>가회동 김형태,이준구 가옥</td>\n",
       "      <td>서울특별시 종로구 가회동 16-8</td>\n",
       "      <td>서울특별시</td>\n",
       "      <td>종로구</td>\n",
       "      <td>가회동</td>\n",
       "      <td>126.984905</td>\n",
       "      <td>37.582930</td>\n",
       "    </tr>\n",
       "  </tbody>\n",
       "</table>\n",
       "</div>"
      ],
      "text/plain": [
       "                분류              명칭                        주소   행정 시 행정 구  \\\n",
       "0  문화재유산|문화재구분|조형물        3.1독립기념탑  서울특별시 종로구 종로2가 38 탑골공원 내  서울특별시  종로구   \n",
       "1   문화재유산|문화재구분|가옥  가회동 김형태,이준구 가옥        서울특별시 종로구 가회동 16-8  서울특별시  종로구   \n",
       "\n",
       "          행정 동        X 좌표       Y 좌표  \n",
       "0  종로1.2.3.4가동  126.988348  37.571206  \n",
       "1          가회동  126.984905  37.582930  "
      ]
     },
     "execution_count": 5,
     "metadata": {},
     "output_type": "execute_result"
    }
   ],
   "source": [
    "culture = pd.read_csv('종로구_문화유산(위치).csv')\r\n",
    "culture.head(2)"
   ]
  },
  {
   "cell_type": "code",
   "execution_count": null,
   "metadata": {},
   "outputs": [],
   "source": [
    "#map = folium.Map(location=[37.5502, 126.982], zoom_start=11, tiles='Stamen Toner')\r\n",
    "\r\n",
    "map = folium.Map(location=[37.5502, 126.982], zoom_start=11)\r\n",
    "\r\n",
    "map.choropleth(\r\n",
    "    geo_data = geo_data,\r\n",
    "    data = bi_data.대여건수,\r\n",
    "    columns = [bi_data.index, bi_data.대여건수],\r\n",
    "    fill_color = 'PuRd',\r\n",
    "    #fill_opacity = 0.4,\r\n",
    "    key_on = 'feature.id'\r\n",
    ")\r\n",
    "\r\n",
    "for i in ent.index:\r\n",
    "    folium.CircleMarker(\r\n",
    "        location=[ent.위도[i], ent.경도[i]], \r\n",
    "        radius=10,\r\n",
    "        tooltip=f\"{ent.자전거도로입구명[i]}\",\r\n",
    "        color='black', fill_color='black'\r\n",
    "    ).add_to(map)\r\n",
    "\r\n",
    "for i in mydf.index:\r\n",
    "    folium.Circle(\r\n",
    "        location = [mydf.lat[i], mydf.lng[i]], \r\n",
    "        radius = 20,\r\n",
    "        #radius=int(mydf['score'][i]),\r\n",
    "        tooltip = mydf.title[i],\r\n",
    "        color='blue', fill_color='blue'\r\n",
    "    ).add_to(map)\r\n",
    "\r\n",
    "title_html = '<h3 align=\"center\" style=\"font-size:20px\"><b>맛집과 choro</b></h3>'   \r\n",
    "map.get_root().html.add_child(folium.Element(title_html))\r\n",
    "map"
   ]
  }
 ],
 "metadata": {
  "interpreter": {
   "hash": "8c1eae21719a0790335dcb83aad72b63b602cfe5cdb2bda0f60bc11d4f154e4b"
  },
  "kernelspec": {
   "display_name": "Python 3.8.5 64-bit ('base': conda)",
   "name": "python3"
  },
  "language_info": {
   "codemirror_mode": {
    "name": "ipython",
    "version": 3
   },
   "file_extension": ".py",
   "mimetype": "text/x-python",
   "name": "python",
   "nbconvert_exporter": "python",
   "pygments_lexer": "ipython3",
   "version": "3.8.5"
  },
  "orig_nbformat": 4
 },
 "nbformat": 4,
 "nbformat_minor": 2
}
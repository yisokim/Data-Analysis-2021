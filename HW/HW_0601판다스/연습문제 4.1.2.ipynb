{
  "nbformat": 4,
  "nbformat_minor": 0,
  "metadata": {
    "colab": {
      "name": "Untitled",
      "private_outputs": true,
      "provenance": [],
      "collapsed_sections": [],
      "toc_visible": true
    },
    "kernelspec": {
      "name": "python3",
      "display_name": "Python 3"
    },
    "language_info": {
      "name": "python"
    }
  },
  "cells": [
    {
      "cell_type": "markdown",
      "metadata": {
        "id": "hlXfoyPkWFfU"
      },
      "source": [
        "# 연습 문제 4.1.2\n",
        "\n",
        "다음 조건을 만족하는 임의의 데이터프레임을 하나 만든다.\n",
        "\n",
        "(1) 열의 갯수와 행의 갯수가 각각 5개 이상이어야 한다.\n",
        "\n",
        "(2) 열에는 정수, 문자열, 실수 자료형 데이터가 각각 1개 이상씩 포함되어 있어야 한다."
      ]
    },
    {
      "cell_type": "code",
      "metadata": {
        "id": "5aPNUePzbVa5"
      },
      "source": [
        "import pandas as pd"
      ],
      "execution_count": null,
      "outputs": []
    },
    {
      "cell_type": "code",
      "metadata": {
        "id": "L3-VpDzLVXXE"
      },
      "source": [
        "data = {\n",
        "    \"정수1\": [1, 2, 3, 4, 5],\n",
        "    \"문자열\": [\"삼각지\", \"숙대입구\",\"서울역\", \"회현\",\"명동\"],\n",
        "    \"실수1\": [1.1, 2.1, 3.1, 4.1, 5.1],\n",
        "    \"정수2\": [6, 7, 8, 9,10],\n",
        "    \"실수2\": [6.1, 7.1, 8.1, 9.1,10.1]\n",
        "}\n",
        "columns = [\"정수1\", \"문자열\", \"실수1\", \"정수2\", \"실수2\"]\n",
        "index = [\"김씨\", \"부씨\", \"인씨\", \"구씨\",\"이씨\"]\n",
        "df = pd.DataFrame(data, index=index, columns=columns)\n",
        "df"
      ],
      "execution_count": null,
      "outputs": []
    },
    {
      "cell_type": "markdown",
      "metadata": {
        "id": "f8Hi7WzUbmM_"
      },
      "source": [
        "# 연습 문제 4.1.3\n",
        "\n",
        "다음 데이터프레임에서 지정하는 데이터를 뽑아내거나 처리하라.\n",
        "\n",
        "(1) 모든 학생의 수학 점수를 시리즈로 나타낸다.\n",
        "\n",
        "(2) 모든 학생의 국어와 영어 점수를 데이터 프레임으로 나타낸다.\n",
        "\n",
        "(3) 모든 학생의 각 과목 평균 점수를 새로운 열로 추가한다.\n",
        "\n",
        "(4) 방자의 영어 점수를 80점으로 수정하고 평균 점수도 다시 계산한다.\n",
        "\n",
        "(5) 춘향의 점수를 데이터프레임으로 나타낸다.\n",
        "\n",
        "(6) 향단의 점수를 시리즈로 나타낸다."
      ]
    },
    {
      "cell_type": "code",
      "metadata": {
        "id": "TNy5vIxKZXCV"
      },
      "source": [
        "data = {\n",
        "    \"국어\": [80, 90, 70, 30],\n",
        "    \"영어\": [90, 70, 60, 40],\n",
        "    \"수학\": [90, 60, 80, 70],\n",
        "}\n",
        "columns = [\"국어\", \"영어\", \"수학\"]\n",
        "index = [\"춘향\", \"몽룡\", \"향단\", \"방자\"]\n",
        "df = pd.DataFrame(data, index=index, columns=columns)\n",
        "df"
      ],
      "execution_count": null,
      "outputs": []
    },
    {
      "cell_type": "code",
      "metadata": {
        "id": "vAoB8bbNbzm4"
      },
      "source": [
        "# (1) 모든 학생의 수학 점수를 시리즈로 나타낸다.\n",
        "df['수학']"
      ],
      "execution_count": null,
      "outputs": []
    },
    {
      "cell_type": "code",
      "metadata": {
        "id": "TSkwn2JacMnR"
      },
      "source": [
        "# (2) 모든 학생의 국어와 영어 점수를 데이터 프레임으로 나타낸다\n",
        "df[['국어','영어']]"
      ],
      "execution_count": null,
      "outputs": []
    },
    {
      "cell_type": "code",
      "metadata": {
        "id": "RXIs0gofdawZ"
      },
      "source": [
        "import numpy as np"
      ],
      "execution_count": null,
      "outputs": []
    },
    {
      "cell_type": "code",
      "metadata": {
        "id": "0MgEJ0pQcYd_"
      },
      "source": [
        "# (3) 모든 학생의 각 과목 평균 점수를 새로운 열로 추가한다.\n",
        "# step 1) 학생의 각 과목 평균\n",
        "df.mean(axis = 1).round(2)\n",
        "\n",
        "# step 2) 구한 평균을 새로운 열로 추가하기\n",
        "df[\"평균\"] = df.mean(axis = 1).round(2)\n",
        "df"
      ],
      "execution_count": null,
      "outputs": []
    },
    {
      "cell_type": "code",
      "metadata": {
        "id": "dja4EUY8CJt-"
      },
      "source": [
        "# (4) 방자의 영어 점수를 80점으로 수정하고 평균 점수도 다시 계산한다.\n",
        "# 개별 데이터 인덱싱은 [][]\n",
        "df[\"영어\"][\"방자\"] = 80\n",
        "df"
      ],
      "execution_count": null,
      "outputs": []
    },
    {
      "cell_type": "code",
      "metadata": {
        "id": "x1U6nd32Dcwe"
      },
      "source": [
        "# (5) 춘향의 점수를 데이터프레임으로 나타낸다.\n",
        "df[:'춘향']"
      ],
      "execution_count": null,
      "outputs": []
    },
    {
      "cell_type": "code",
      "metadata": {
        "id": "TDSlWwjhEyOP"
      },
      "source": [
        "# (6) 향단의 점수를 시리즈로 나타낸다.\n",
        "# .T 속성은 데이터프레임에서 index와 column을 바꾼 형태의 데이타프레임\n",
        "df.T['향단']"
      ],
      "execution_count": null,
      "outputs": []
    },
    {
      "cell_type": "markdown",
      "metadata": {
        "id": "go3-wzrgGLI3"
      },
      "source": [
        "# 연습 문제 4.4.1\n",
        "\n",
        "타이타닉호 승객 데이터의 데이터 개수를 각 열마다 구해본다.\n"
      ]
    },
    {
      "cell_type": "code",
      "metadata": {
        "id": "8kvkcqNLGQdT"
      },
      "source": [
        "# 타이타닉호의 승객 데이터를 데이터프레임으로 읽어오기\n",
        "import seaborn as sns\n",
        "titanic = sns.load_dataset(\"titanic\")\n",
        "titanic.head()"
      ],
      "execution_count": null,
      "outputs": []
    },
    {
      "cell_type": "code",
      "metadata": {
        "id": "LXKHcQ7sHfjG"
      },
      "source": [
        "titanic.count()"
      ],
      "execution_count": null,
      "outputs": []
    },
    {
      "cell_type": "markdown",
      "metadata": {
        "id": "FOPQCjAJIFKd"
      },
      "source": [
        "#연습 문제 4.4.2\n",
        "\n",
        "sort_values 메서드를 사용하여 타이타닉호 승객에 대해 성별(sex) 인원수, 나이별(age) 인원수, 선실별(class) 인원수, 사망/생존(alive) 인원수를 구하라."
      ]
    },
    {
      "cell_type": "code",
      "metadata": {
        "id": "ObXcDXHSIE4L"
      },
      "source": [
        "titanic['sex'].value_counts()"
      ],
      "execution_count": null,
      "outputs": []
    },
    {
      "cell_type": "code",
      "metadata": {
        "id": "Yze4BF4JHmPS"
      },
      "source": [
        "titanic['age'].value_counts()"
      ],
      "execution_count": null,
      "outputs": []
    },
    {
      "cell_type": "code",
      "metadata": {
        "id": "NEstJ64KK1yr"
      },
      "source": [
        "titanic['class'].value_counts()"
      ],
      "execution_count": null,
      "outputs": []
    },
    {
      "cell_type": "code",
      "metadata": {
        "id": "6-I_nAQnK6C3"
      },
      "source": [
        "titanic.alive.value_counts()"
      ],
      "execution_count": null,
      "outputs": []
    },
    {
      "cell_type": "markdown",
      "metadata": {
        "id": "NnP1z94bLIyr"
      },
      "source": [
        "# 연습 문제 4.4.3\n",
        "\n",
        "타이타닉호 승객의 평균 나이를 구하라.\n",
        "\n",
        "타이타닉호 승객중 여성 승객의 평균 나이를 구하라.\n",
        "\n",
        "타이타닉호 승객중 1등실 선실의 여성 승객의 평균 나이를 구하라."
      ]
    },
    {
      "cell_type": "code",
      "metadata": {
        "id": "9RG_cbkiLINE"
      },
      "source": [
        "titanic.age.mean()"
      ],
      "execution_count": null,
      "outputs": []
    },
    {
      "cell_type": "code",
      "metadata": {
        "id": "XsRyelCaLCE7"
      },
      "source": [
        "female = titanic[titanic['sex']=='female']\n",
        "female.age.mean()"
      ],
      "execution_count": null,
      "outputs": []
    },
    {
      "cell_type": "code",
      "metadata": {
        "id": "C9dr31feLvDD"
      },
      "source": [
        "titanic.pclass"
      ],
      "execution_count": null,
      "outputs": []
    },
    {
      "cell_type": "markdown",
      "metadata": {
        "id": "fKXfNA4BSQ-Z"
      },
      "source": [
        "# 연습 문제 4.4.4\n",
        "\n",
        "타이타닉호의 승객에 대해 나이와 성별에 의한 카테고리 열인 category1 열을 만들어라. category1 카테고리는 다음과 같이 정의된다.\n",
        "\n",
        "20살이 넘으면 성별을 그대로 사용한다.\n",
        "\n",
        "20살 미만이면 성별에 관계없이 “child”라고 한다."
      ]
    },
    {
      "cell_type": "code",
      "metadata": {
        "id": "9_ooOZx_SV72"
      },
      "source": [
        "category1=titanic[['age','sex']]\n",
        "category1"
      ],
      "execution_count": null,
      "outputs": []
    },
    {
      "cell_type": "code",
      "metadata": {
        "id": "QcvRuyduZLlr"
      },
      "source": [
        "titanic['child'] = titanic.apply(\n",
        "    lambda r: 'child' if r.age < 20, axis = 1\n",
        ")\n",
        "titanic.tail()"
      ],
      "execution_count": null,
      "outputs": []
    },
    {
      "cell_type": "markdown",
      "metadata": {
        "id": "qVJHBEleazqX"
      },
      "source": [
        "#연습 문제 4.4.5\n",
        "\n",
        "타이타닉호의 승객 중 나이를 명시하지 않은 고객은 나이를 명시한 고객의 평균 나이 값이 되도록 titanic 데이터프레임을 고쳐라."
      ]
    },
    {
      "cell_type": "code",
      "metadata": {
        "id": "sLG5IMAea3YC"
      },
      "source": [
        ""
      ],
      "execution_count": null,
      "outputs": []
    }
  ]
}
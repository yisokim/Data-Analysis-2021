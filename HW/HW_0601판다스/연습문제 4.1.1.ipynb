{
 "cells": [
  {
   "cell_type": "markdown",
   "metadata": {},
   "source": [
    "# Pandas 정리\r\n",
    "판다스(Pandas) 패키지는 시계열(series)이나 표(table)의 형태로 나타낼 수 있는 데이터를 다루기 위한 시리즈(Series) 클래스와 데이터프레임(DataFrame) 클래스를 제공\r\n",
    "\r\n",
    "# - 시리즈(Series) 클래스\r\n",
    "시리즈 Series 클래스는 넘파이에서 제공하는 1차원 배열과 비슷하지만 각 데이터의 의미를 표시하는 인덱스(index)를 붙일 수 있다. 데이터 자체는 값(value)라고 한다.\r\n",
    " 인덱스의 값: 라벨(label), 인덱스 라벨은 문자열 뿐 아니라 날짜, 시간, 정수 등도 가능\r\n",
    " ### 만약 인덱스를 지정하지 않고 시리즈를 만들면 시리즈의 인덱스는 0부터 시작하는 정수값이 된다.\r\n",
    " ### name 속성: 시리즈 데이터에 이름을 붙일 수 있음\r\n",
    " ### index.name 속성: 시리즈의 인덱스에도 이름을 붙일 수 있음"
   ]
  },
  {
   "cell_type": "code",
   "execution_count": 1,
   "metadata": {},
   "outputs": [],
   "source": [
    "import pandas as pd"
   ]
  },
  {
   "cell_type": "markdown",
   "metadata": {},
   "source": [
    "# 연습 문제 4.1.1\r\n",
    "\r\n",
    "(1) 임의로 두 개의 시리즈 객체를 만든다. 모두 문자열 인덱스를 가져야 하며 두 시리즈에 공통적으로 포함되지 않는 라벨이 있어야 한다.\r\n",
    "\r\n",
    "(2) 위에서 만든 두 시리즈 객체를 이용하여 사칙 연산을 한다.\r\n",
    "\r\n"
   ]
  },
  {
   "cell_type": "code",
   "execution_count": 4,
   "metadata": {},
   "outputs": [
    {
     "data": {
      "text/plain": "가    4\n나    7\n다   -5\n라    3\ndtype: int64"
     },
     "execution_count": 4,
     "metadata": {},
     "output_type": "execute_result"
    }
   ],
   "source": [
    "# 첫번째 시리즈 객체\r\n",
    "obj = pd.Series([4, 7, -5, 3], index=['가','나','다','라'])\r\n",
    "obj"
   ]
  },
  {
   "cell_type": "code",
   "execution_count": 8,
   "metadata": {},
   "outputs": [
    {
     "data": {
      "text/plain": "가    10\n나    11\n다    12\n라    13\ndtype: int64"
     },
     "execution_count": 8,
     "metadata": {},
     "output_type": "execute_result"
    }
   ],
   "source": [
    "# 두번째 시리즈 객체\r\n",
    "obj2 = pd.Series(range(10,14), index=['가','나','다','라'])\r\n",
    "obj2"
   ]
  },
  {
   "cell_type": "code",
   "execution_count": 9,
   "metadata": {},
   "outputs": [
    {
     "data": {
      "text/plain": "가    40\n나    77\n다   -60\n라    39\ndtype: int64"
     },
     "execution_count": 9,
     "metadata": {},
     "output_type": "execute_result"
    }
   ],
   "source": [
    "# 두 시리즈 객체를 이용한 사칙연산(*)\r\n",
    "obj3 = obj * obj2\r\n",
    "obj3[obj3.notnull()]"
   ]
  },
  {
   "cell_type": "code",
   "execution_count": 10,
   "metadata": {},
   "outputs": [
    {
     "data": {
      "text/plain": "가    14\n나    18\n다     7\n라    16\ndtype: int64"
     },
     "execution_count": 10,
     "metadata": {},
     "output_type": "execute_result"
    }
   ],
   "source": [
    "# 두 시리즈 객체를 이용한 사칙연산(+)\r\n",
    "obj3 = obj + obj2\r\n",
    "obj3[obj3.notnull()]"
   ]
  },
  {
   "cell_type": "code",
   "execution_count": 11,
   "metadata": {},
   "outputs": [
    {
     "data": {
      "text/plain": "가     6\n나     4\n다    17\n라    10\ndtype: int64"
     },
     "execution_count": 11,
     "metadata": {},
     "output_type": "execute_result"
    }
   ],
   "source": [
    "# 두 시리즈 객체를 이용한 사칙연산(-)\r\n",
    "obj3 = obj2 - obj\r\n",
    "obj3[obj3.notnull()]"
   ]
  },
  {
   "cell_type": "code",
   "execution_count": 12,
   "metadata": {},
   "outputs": [
    {
     "data": {
      "text/plain": "가    2.500000\n나    1.571429\n다   -2.400000\n라    4.333333\ndtype: float64"
     },
     "execution_count": 12,
     "metadata": {},
     "output_type": "execute_result"
    }
   ],
   "source": [
    "# 두 시리즈 객체를 이용한 사칙연산(/)\r\n",
    "obj3 = obj2 / obj\r\n",
    "obj3[obj3.notnull()]"
   ]
  }
 ],
 "metadata": {
  "language_info": {},
  "orig_nbformat": 3
 },
 "nbformat": 4,
 "nbformat_minor": 2
}
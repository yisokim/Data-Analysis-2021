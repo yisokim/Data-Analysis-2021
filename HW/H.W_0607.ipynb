{
 "cells": [
  {
   "cell_type": "markdown",
   "metadata": {},
   "source": [
    "# 망고플레이트 이용해서 상호, 요약정보, 주소, 전화번호"
   ]
  },
  {
   "cell_type": "code",
   "execution_count": 1,
   "metadata": {},
   "outputs": [],
   "source": [
    "#Connect.py\r\n",
    "import time\r\n",
    "from selenium import webdriver\r\n",
    "from selenium.webdriver.common.keys import Keys\r\n",
    "import requests\r\n",
    "import pandas as pd\r\n",
    "from selenium.webdriver.support import expected_conditions as EC"
   ]
  },
  {
   "cell_type": "code",
   "execution_count": 46,
   "metadata": {},
   "outputs": [],
   "source": [
    "import requests\r\n",
    "from bs4 import BeautifulSoup as bs"
   ]
  },
  {
   "cell_type": "code",
   "execution_count": 49,
   "metadata": {},
   "outputs": [],
   "source": [
    "# 웹페이지에서 소스코드를 가져와 beautiful soup으로 파싱\r\n",
    "# raw = requests.get('https://www.mangoplate.com/search/%EC%B6%A9%EC%A0%95%EB%A1%9C%EC%97%AD', headers={'User-Agent':'Mozilla/5.0 (Windows NT 10.0; Win64; x64) AppleWebKit/537.36 (KHTML, like Gecko) Chrome/91.0.4472.77 Safari/537.36'})\r\n",
    "# html = bs(raw.text, 'html.parser')"
   ]
  },
  {
   "cell_type": "code",
   "execution_count": 2,
   "metadata": {},
   "outputs": [],
   "source": [
    "# url 이용\r\n",
    "url = 'https://www.mangoplate.com/'\r\n",
    "driver = webdriver.Chrome('./chromedriver')\r\n",
    "driver.get(url)"
   ]
  },
  {
   "cell_type": "code",
   "execution_count": null,
   "metadata": {},
   "outputs": [],
   "source": [
    "# 컨테이너 수집하기\r\n",
    "food = html.select(\"figure.restaurant-item\")\r\n",
    "for f in range(1,5):\r\n",
    "    title = f.select_one(\"\")\r\n"
   ]
  },
  {
   "cell_type": "code",
   "execution_count": 44,
   "metadata": {},
   "outputs": [
    {
     "name": "stdout",
     "output_type": "stream",
     "text": [
      "오류 Message: javascript error: goPage is not defined\n",
      "  (Session info: chrome=91.0.4472.77)\n",
      "\n",
      "오류 Message: javascript error: goPage is not defined\n",
      "  (Session info: chrome=91.0.4472.77)\n",
      "\n",
      "오류 Message: javascript error: goPage is not defined\n",
      "  (Session info: chrome=91.0.4472.77)\n",
      "\n",
      "오류 Message: javascript error: goPage is not defined\n",
      "  (Session info: chrome=91.0.4472.77)\n",
      "\n"
     ]
    }
   ],
   "source": [
    "for page in range(1,5): # 1~5페이지\r\n",
    "    try:\r\n",
    "        script = 'goPage(%s)' % page #페이지를 순서별로 포문돌림\r\n",
    "        driver.execute_script(script)\r\n",
    "        time.sleep(2)\r\n",
    "        current_window = driver.current_window_handle\r\n",
    "\r\n",
    "        for i in driver.find_element_by_xpath('/html/body/main'): \r\n",
    "            i.click()\r\n",
    "            driver.switch_to_window(driver.window_handles[-1])\r\n",
    "            name = driver.find_element_by_xpath('/html/body/main/article/div[2]/div/div/section/div[3]/ul/li[1]/div[1]/figure/figcaption/div/a/h2').text\r\n",
    "            info = driver.find_element_by_xpath('/html/body/main/article/div[1]/div[1]/div/section[1]/table/tbody/tr[3]/td/span').text\r\n",
    "            addr = driver.find_element_by_xpath('/html/body/main/article/div[1]/div[1]/div/section[1]/ul/li[1]/div[2]/div[1]').text\r\n",
    "            num = driver.find_element_by_xpath('/html/body/main/article/div[1]/div[1]/div/section[1]/table/tbody/tr[2]/td').text\r\n",
    "            driver.close()\r\n",
    "            driver.switch_to_window(current_window)\r\n",
    "            results.append({\r\n",
    "                \"이름\": name,\r\n",
    "                \"요약정보\": info,\r\n",
    "                \"주소\": addr,\r\n",
    "                \"전화번호\": num\r\n",
    "            })\r\n",
    "            df = pd.DataFranme(results)\r\n",
    "    except Exception as e1:\r\n",
    "        print('오류', e1)"
   ]
  }
 ],
 "metadata": {
  "kernelspec": {
   "display_name": "Python 3.8.5 64-bit ('base': conda)",
   "name": "python385jvsc74a57bd08c1eae21719a0790335dcb83aad72b63b602cfe5cdb2bda0f60bc11d4f154e4b"
  },
  "language_info": {
   "codemirror_mode": {
    "name": "ipython",
    "version": 3
   },
   "file_extension": ".py",
   "mimetype": "text/x-python",
   "name": "python",
   "nbconvert_exporter": "python",
   "pygments_lexer": "ipython3",
   "version": "3.8.5"
  },
  "orig_nbformat": 2
 },
 "nbformat": 4,
 "nbformat_minor": 2
}
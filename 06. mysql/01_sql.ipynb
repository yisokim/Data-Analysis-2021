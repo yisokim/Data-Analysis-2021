{
 "cells": [
  {
   "cell_type": "code",
   "execution_count": 4,
   "metadata": {},
   "outputs": [
    {
     "ename": "SyntaxError",
     "evalue": "EOL while scanning string literal (<ipython-input-4-c98cab9756b2>, line 3)",
     "output_type": "error",
     "traceback": [
      "\u001b[1;36m  File \u001b[1;32m\"<ipython-input-4-c98cab9756b2>\"\u001b[1;36m, line \u001b[1;32m3\u001b[0m\n\u001b[1;33m    ''''\u001b[0m\n\u001b[1;37m        \n^\u001b[0m\n\u001b[1;31mSyntaxError\u001b[0m\u001b[1;31m:\u001b[0m EOL while scanning string literal\n"
     ]
    }
   ],
   "source": [
    "sql = ''''\r\n",
    "SELECT * FROM city WHERE district='Kyonggi';\r\n",
    "''''"
   ]
  },
  {
   "cell_type": "markdown",
   "metadata": {},
   "source": [
    "## SELECT DISTINCT field명, 함수 또는 * FROM table명\r\n",
    "## WHERE 조건 ORDER BY field명 [DESC]\r\n",
    "## LIMIT 갯수, offset 등\r\n",
    "## GROUP BY field명\r\n",
    "## HAVING group 조건\r\n",
    "## oreder by limit\r\n",
    "## JOIN table명 ON field명\r\n",
    "\r\n",
    "## UPDATE table명 SET field1=value1, field2=value2, ... WHERE 조건\r\n",
    "\t\r\n",
    "## INSERT INTO table명 (feild1, feild2, ...) value(VALUE1, VALUE2, ...), (value1, value2, ...), ...\r\n",
    "\r\n",
    "## "
   ]
  },
  {
   "cell_type": "code",
   "execution_count": null,
   "metadata": {},
   "outputs": [],
   "source": []
  }
 ],
 "metadata": {
  "kernelspec": {
   "display_name": "Python 3.8.5 64-bit ('base': conda)",
   "name": "python385jvsc74a57bd08c1eae21719a0790335dcb83aad72b63b602cfe5cdb2bda0f60bc11d4f154e4b"
  },
  "language_info": {
   "name": "python",
   "version": ""
  },
  "orig_nbformat": 2
 },
 "nbformat": 4,
 "nbformat_minor": 2
}
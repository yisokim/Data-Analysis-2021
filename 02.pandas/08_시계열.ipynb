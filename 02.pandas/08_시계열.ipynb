{
 "cells": [
  {
   "cell_type": "code",
   "execution_count": 1,
   "metadata": {},
   "outputs": [],
   "source": [
    "import pandas as pd\r\n",
    "import numpy as np"
   ]
  },
  {
   "cell_type": "markdown",
   "metadata": {},
   "source": [
    "## - DatetimeIndex"
   ]
  },
  {
   "cell_type": "code",
   "execution_count": 5,
   "metadata": {},
   "outputs": [
    {
     "data": {
      "text/plain": "DatetimeIndex(['2018-01-01', '2018-01-04', '2018-01-05', '2018-01-06',\n               '2018-01-07'],\n              dtype='datetime64[ns]', freq=None)"
     },
     "execution_count": 5,
     "metadata": {},
     "output_type": "execute_result"
    }
   ],
   "source": [
    "date_str = [\"2018, 1, 1\", \"2018-1-4\", \"20180105\", \"2018.1.6\", \"010718\"]\r\n",
    "idx = pd.to_datetime(date_str)\r\n",
    "idx"
   ]
  },
  {
   "cell_type": "code",
   "execution_count": 7,
   "metadata": {},
   "outputs": [
    {
     "data": {
      "text/plain": "2018-01-01    1.488609\n2018-01-04    0.676011\n2018-01-05   -0.418451\n2018-01-06   -0.806521\n2018-01-07    0.555876\ndtype: float64"
     },
     "execution_count": 7,
     "metadata": {},
     "output_type": "execute_result"
    }
   ],
   "source": [
    "np.random.seed(2021)\r\n",
    "s = pd.Series(np.random.randn(5), index=idx)\r\n",
    "s"
   ]
  },
  {
   "cell_type": "code",
   "execution_count": 8,
   "metadata": {},
   "outputs": [
    {
     "data": {
      "text/plain": "DatetimeIndex(['2021-06-01', '2021-06-02', '2021-06-03', '2021-06-04',\n               '2021-06-05', '2021-06-06', '2021-06-07', '2021-06-08',\n               '2021-06-09', '2021-06-10', '2021-06-11', '2021-06-12',\n               '2021-06-13', '2021-06-14', '2021-06-15', '2021-06-16',\n               '2021-06-17', '2021-06-18', '2021-06-19', '2021-06-20',\n               '2021-06-21', '2021-06-22', '2021-06-23', '2021-06-24',\n               '2021-06-25', '2021-06-26', '2021-06-27', '2021-06-28',\n               '2021-06-29', '2021-06-30'],\n              dtype='datetime64[ns]', freq='D')"
     },
     "execution_count": 8,
     "metadata": {},
     "output_type": "execute_result"
    }
   ],
   "source": [
    "pd.date_range('20210601','20210630')"
   ]
  },
  {
   "cell_type": "code",
   "execution_count": 9,
   "metadata": {},
   "outputs": [
    {
     "data": {
      "text/plain": "DatetimeIndex(['2021-06-01', '2021-06-02', '2021-06-03', '2021-06-04',\n               '2021-06-05', '2021-06-06', '2021-06-07', '2021-06-08',\n               '2021-06-09', '2021-06-10', '2021-06-11', '2021-06-12',\n               '2021-06-13', '2021-06-14', '2021-06-15', '2021-06-16',\n               '2021-06-17', '2021-06-18', '2021-06-19', '2021-06-20',\n               '2021-06-21', '2021-06-22', '2021-06-23', '2021-06-24',\n               '2021-06-25', '2021-06-26', '2021-06-27', '2021-06-28',\n               '2021-06-29', '2021-06-30'],\n              dtype='datetime64[ns]', freq='D')"
     },
     "execution_count": 9,
     "metadata": {},
     "output_type": "execute_result"
    }
   ],
   "source": [
    "pd.date_range(start=\"20210601\", periods=30)"
   ]
  },
  {
   "cell_type": "code",
   "execution_count": 10,
   "metadata": {},
   "outputs": [
    {
     "data": {
      "text/plain": "DatetimeIndex(['2021-06-01', '2021-06-02', '2021-06-03', '2021-06-04',\n               '2021-06-07', '2021-06-08', '2021-06-09', '2021-06-10',\n               '2021-06-11', '2021-06-14', '2021-06-15', '2021-06-16',\n               '2021-06-17', '2021-06-18', '2021-06-21', '2021-06-22',\n               '2021-06-23', '2021-06-24', '2021-06-25', '2021-06-28',\n               '2021-06-29', '2021-06-30'],\n              dtype='datetime64[ns]', freq='B')"
     },
     "execution_count": 10,
     "metadata": {},
     "output_type": "execute_result"
    }
   ],
   "source": [
    "pd.date_range('20210601','20210630', freq='B')"
   ]
  },
  {
   "cell_type": "code",
   "execution_count": 11,
   "metadata": {},
   "outputs": [
    {
     "data": {
      "text/plain": "DatetimeIndex(['2021-01-31', '2021-02-28', '2021-03-31', '2021-04-30',\n               '2021-05-31', '2021-06-30', '2021-07-31', '2021-08-31',\n               '2021-09-30', '2021-10-31', '2021-11-30', '2021-12-31'],\n              dtype='datetime64[ns]', freq='M')"
     },
     "execution_count": 11,
     "metadata": {},
     "output_type": "execute_result"
    }
   ],
   "source": [
    "pd.date_range('20210101','20211231', freq='M')"
   ]
  },
  {
   "cell_type": "markdown",
   "metadata": {},
   "source": [
    "## - resample 연산"
   ]
  },
  {
   "cell_type": "code",
   "execution_count": 13,
   "metadata": {},
   "outputs": [
    {
     "data": {
      "text/plain": "2018-04-01   -1.037998\n2018-04-02    0.662567\n2018-04-03   -0.624228\n2018-04-04   -0.643762\n2018-04-05   -0.686254\n2018-04-06    0.441222\n2018-04-07    0.855880\n2018-04-08    0.147717\n2018-04-09   -1.594633\n2018-04-10    2.636894\nFreq: D, dtype: float64"
     },
     "execution_count": 13,
     "metadata": {},
     "output_type": "execute_result"
    }
   ],
   "source": [
    "ts = pd.Series(np.random.randn(100), index=pd.date_range(\r\n",
    "    \"2018-1-1\", periods=100))\r\n",
    "ts.tail(10)"
   ]
  },
  {
   "cell_type": "code",
   "execution_count": 17,
   "metadata": {},
   "outputs": [
    {
     "data": {
      "text/plain": "2018-01-07    0.038287\n2018-01-14   -0.021018\n2018-01-21    0.658084\n2018-01-28    0.340031\n2018-02-04    0.577920\n2018-02-11   -0.198362\n2018-02-18    0.543467\n2018-02-25   -0.388301\n2018-03-04    0.372838\n2018-03-11   -0.047345\n2018-03-18   -0.054546\n2018-03-25   -0.265704\n2018-04-01   -1.016063\n2018-04-08    0.021877\n2018-04-15    0.521131\nFreq: W-SUN, dtype: float64"
     },
     "execution_count": 17,
     "metadata": {},
     "output_type": "execute_result"
    }
   ],
   "source": [
    "# 주마다 데이터 평균\r\n",
    "ts.resample('w').mean()"
   ]
  },
  {
   "cell_type": "code",
   "execution_count": 18,
   "metadata": {},
   "outputs": [
    {
     "data": {
      "text/plain": "2018-01-31    0.567278\n2018-02-28    0.591672\n2018-03-31   -0.253510\n2018-04-30   -1.037998\nFreq: M, dtype: float64"
     },
     "execution_count": 18,
     "metadata": {},
     "output_type": "execute_result"
    }
   ],
   "source": [
    "#\r\n",
    "ts.resample('M').first()"
   ]
  }
 ],
 "metadata": {
  "kernelspec": {
   "display_name": "Python 3.8.5 64-bit ('base': conda)",
   "name": "python385jvsc74a57bd08c1eae21719a0790335dcb83aad72b63b602cfe5cdb2bda0f60bc11d4f154e4b"
  },
  "language_info": {
   "codemirror_mode": {
    "name": "ipython",
    "version": 3
   },
   "file_extension": ".py",
   "mimetype": "text/x-python",
   "name": "python",
   "nbconvert_exporter": "python",
   "pygments_lexer": "ipython3",
   "version": "3.8.5"
  },
  "orig_nbformat": 2
 },
 "nbformat": 4,
 "nbformat_minor": 2
}
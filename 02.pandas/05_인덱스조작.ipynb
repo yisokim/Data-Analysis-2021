{
 "cells": [
  {
   "cell_type": "code",
   "execution_count": 1,
   "metadata": {},
   "outputs": [],
   "source": [
    "import pandas as pd\r\n",
    "import numpy as np"
   ]
  },
  {
   "cell_type": "markdown",
   "metadata": {},
   "source": [
    "# 데이터프레임 인덱스 조작"
   ]
  },
  {
   "cell_type": "markdown",
   "metadata": {},
   "source": [
    "## 일반 데이터 열이어야 할 것이 인덱스로 되어 있을 수 있다.\r\n",
    "## set_index : 기존의 행 인덱스를 제거하고 데이터 열 중 하나를 인덱스로 설정\r\n",
    "## reset_index : 기존의 행 인덱스를 제거하고 인덱스를 데이터 열로 추가"
   ]
  },
  {
   "cell_type": "markdown",
   "metadata": {},
   "source": [
    "## set_index:메서드로 특정한 열을 인덱스로 설정할 수 있다."
   ]
  },
  {
   "cell_type": "code",
   "execution_count": 2,
   "metadata": {},
   "outputs": [
    {
     "data": {
      "text/html": "<div>\n<style scoped>\n    .dataframe tbody tr th:only-of-type {\n        vertical-align: middle;\n    }\n\n    .dataframe tbody tr th {\n        vertical-align: top;\n    }\n\n    .dataframe thead th {\n        text-align: right;\n    }\n</style>\n<table border=\"1\" class=\"dataframe\">\n  <thead>\n    <tr style=\"text-align: right;\">\n      <th></th>\n      <th>C1</th>\n      <th>C2</th>\n      <th>C3</th>\n      <th>C4</th>\n    </tr>\n  </thead>\n  <tbody>\n    <tr>\n      <th>0</th>\n      <td>A</td>\n      <td>0.61</td>\n      <td>0.13</td>\n      <td>0.1</td>\n    </tr>\n    <tr>\n      <th>1</th>\n      <td>B</td>\n      <td>0.73</td>\n      <td>0.18</td>\n      <td>0.06</td>\n    </tr>\n    <tr>\n      <th>2</th>\n      <td>C</td>\n      <td>0.14</td>\n      <td>0.75</td>\n      <td>0.96</td>\n    </tr>\n    <tr>\n      <th>3</th>\n      <td>D</td>\n      <td>0.31</td>\n      <td>0.66</td>\n      <td>0.62</td>\n    </tr>\n    <tr>\n      <th>4</th>\n      <td>E</td>\n      <td>1.0</td>\n      <td>0.78</td>\n      <td>0.09</td>\n    </tr>\n  </tbody>\n</table>\n</div>",
      "text/plain": "  C1    C2    C3    C4\n0  A  0.61  0.13   0.1\n1  B  0.73  0.18  0.06\n2  C  0.14  0.75  0.96\n3  D  0.31  0.66  0.62\n4  E   1.0  0.78  0.09"
     },
     "execution_count": 2,
     "metadata": {},
     "output_type": "execute_result"
    }
   ],
   "source": [
    "np.random.seed(2021)\r\n",
    "df1 = pd.DataFrame(np.vstack([list('ABCDE'),\r\n",
    "                              np.round(np.random.rand(3, 5), 2)]).T,\r\n",
    "                   columns=[\"C1\", \"C2\", \"C3\", \"C4\"])\r\n",
    "df1"
   ]
  },
  {
   "cell_type": "code",
   "execution_count": 4,
   "metadata": {},
   "outputs": [
    {
     "data": {
      "text/html": "<div>\n<style scoped>\n    .dataframe tbody tr th:only-of-type {\n        vertical-align: middle;\n    }\n\n    .dataframe tbody tr th {\n        vertical-align: top;\n    }\n\n    .dataframe thead th {\n        text-align: right;\n    }\n</style>\n<table border=\"1\" class=\"dataframe\">\n  <thead>\n    <tr style=\"text-align: right;\">\n      <th></th>\n      <th>C2</th>\n      <th>C3</th>\n      <th>C4</th>\n    </tr>\n    <tr>\n      <th>C1</th>\n      <th></th>\n      <th></th>\n      <th></th>\n    </tr>\n  </thead>\n  <tbody>\n    <tr>\n      <th>A</th>\n      <td>0.61</td>\n      <td>0.13</td>\n      <td>0.1</td>\n    </tr>\n    <tr>\n      <th>B</th>\n      <td>0.73</td>\n      <td>0.18</td>\n      <td>0.06</td>\n    </tr>\n    <tr>\n      <th>C</th>\n      <td>0.14</td>\n      <td>0.75</td>\n      <td>0.96</td>\n    </tr>\n    <tr>\n      <th>D</th>\n      <td>0.31</td>\n      <td>0.66</td>\n      <td>0.62</td>\n    </tr>\n    <tr>\n      <th>E</th>\n      <td>1.0</td>\n      <td>0.78</td>\n      <td>0.09</td>\n    </tr>\n  </tbody>\n</table>\n</div>",
      "text/plain": "      C2    C3    C4\nC1                  \nA   0.61  0.13   0.1\nB   0.73  0.18  0.06\nC   0.14  0.75  0.96\nD   0.31  0.66  0.62\nE    1.0  0.78  0.09"
     },
     "execution_count": 4,
     "metadata": {},
     "output_type": "execute_result"
    }
   ],
   "source": [
    "# set_index:메서드로 특정한 열을 인덱스로 설정할 수 있다.\r\n",
    "# 이 때 기존의 인덱스는 없어진다.\r\n",
    "df2 = df1.set_index(\"C1\")\r\n",
    "df2"
   ]
  },
  {
   "cell_type": "code",
   "execution_count": 7,
   "metadata": {},
   "outputs": [
    {
     "data": {
      "text/html": "<div>\n<style scoped>\n    .dataframe tbody tr th:only-of-type {\n        vertical-align: middle;\n    }\n\n    .dataframe tbody tr th {\n        vertical-align: top;\n    }\n\n    .dataframe thead th {\n        text-align: right;\n    }\n</style>\n<table border=\"1\" class=\"dataframe\">\n  <thead>\n    <tr style=\"text-align: right;\">\n      <th></th>\n      <th>C3</th>\n      <th>C4</th>\n    </tr>\n    <tr>\n      <th>C2</th>\n      <th></th>\n      <th></th>\n    </tr>\n  </thead>\n  <tbody>\n    <tr>\n      <th>0.61</th>\n      <td>0.13</td>\n      <td>0.1</td>\n    </tr>\n    <tr>\n      <th>0.73</th>\n      <td>0.18</td>\n      <td>0.06</td>\n    </tr>\n    <tr>\n      <th>0.14</th>\n      <td>0.75</td>\n      <td>0.96</td>\n    </tr>\n    <tr>\n      <th>0.31</th>\n      <td>0.66</td>\n      <td>0.62</td>\n    </tr>\n    <tr>\n      <th>1.0</th>\n      <td>0.78</td>\n      <td>0.09</td>\n    </tr>\n  </tbody>\n</table>\n</div>",
      "text/plain": "        C3    C4\nC2              \n0.61  0.13   0.1\n0.73  0.18  0.06\n0.14  0.75  0.96\n0.31  0.66  0.62\n1.0   0.78  0.09"
     },
     "execution_count": 7,
     "metadata": {},
     "output_type": "execute_result"
    }
   ],
   "source": [
    "df3 = df2.set_index(\"C2\")\r\n",
    "df3"
   ]
  },
  {
   "cell_type": "code",
   "execution_count": 8,
   "metadata": {},
   "outputs": [
    {
     "data": {
      "text/html": "<div>\n<style scoped>\n    .dataframe tbody tr th:only-of-type {\n        vertical-align: middle;\n    }\n\n    .dataframe tbody tr th {\n        vertical-align: top;\n    }\n\n    .dataframe thead th {\n        text-align: right;\n    }\n</style>\n<table border=\"1\" class=\"dataframe\">\n  <thead>\n    <tr style=\"text-align: right;\">\n      <th></th>\n      <th>C4</th>\n    </tr>\n    <tr>\n      <th>C3</th>\n      <th></th>\n    </tr>\n  </thead>\n  <tbody>\n    <tr>\n      <th>0.13</th>\n      <td>0.1</td>\n    </tr>\n    <tr>\n      <th>0.18</th>\n      <td>0.06</td>\n    </tr>\n    <tr>\n      <th>0.75</th>\n      <td>0.96</td>\n    </tr>\n    <tr>\n      <th>0.66</th>\n      <td>0.62</td>\n    </tr>\n    <tr>\n      <th>0.78</th>\n      <td>0.09</td>\n    </tr>\n  </tbody>\n</table>\n</div>",
      "text/plain": "        C4\nC3        \n0.13   0.1\n0.18  0.06\n0.75  0.96\n0.66  0.62\n0.78  0.09"
     },
     "execution_count": 8,
     "metadata": {},
     "output_type": "execute_result"
    }
   ],
   "source": [
    "# inplace는 Default = false\r\n",
    "df3.set_index('C3', inplace=True)\r\n",
    "df3"
   ]
  },
  {
   "cell_type": "code",
   "execution_count": 9,
   "metadata": {},
   "outputs": [
    {
     "data": {
      "text/html": "<div>\n<style scoped>\n    .dataframe tbody tr th:only-of-type {\n        vertical-align: middle;\n    }\n\n    .dataframe tbody tr th {\n        vertical-align: top;\n    }\n\n    .dataframe thead th {\n        text-align: right;\n    }\n</style>\n<table border=\"1\" class=\"dataframe\">\n  <thead>\n    <tr style=\"text-align: right;\">\n      <th></th>\n      <th>C2</th>\n      <th>C3</th>\n      <th>C4</th>\n    </tr>\n    <tr>\n      <th>C1</th>\n      <th></th>\n      <th></th>\n      <th></th>\n    </tr>\n  </thead>\n  <tbody>\n    <tr>\n      <th>A</th>\n      <td>0.61</td>\n      <td>0.13</td>\n      <td>0.1</td>\n    </tr>\n    <tr>\n      <th>B</th>\n      <td>0.73</td>\n      <td>0.18</td>\n      <td>0.06</td>\n    </tr>\n    <tr>\n      <th>C</th>\n      <td>0.14</td>\n      <td>0.75</td>\n      <td>0.96</td>\n    </tr>\n    <tr>\n      <th>D</th>\n      <td>0.31</td>\n      <td>0.66</td>\n      <td>0.62</td>\n    </tr>\n    <tr>\n      <th>E</th>\n      <td>1.0</td>\n      <td>0.78</td>\n      <td>0.09</td>\n    </tr>\n  </tbody>\n</table>\n</div>",
      "text/plain": "      C2    C3    C4\nC1                  \nA   0.61  0.13   0.1\nB   0.73  0.18  0.06\nC   0.14  0.75  0.96\nD   0.31  0.66  0.62\nE    1.0  0.78  0.09"
     },
     "execution_count": 9,
     "metadata": {},
     "output_type": "execute_result"
    }
   ],
   "source": [
    "df2"
   ]
  },
  {
   "cell_type": "markdown",
   "metadata": {},
   "source": [
    "## reset_index 메서드: 인덱스를 보통의 자료열로 바꿀 수도 있다.\r\n",
    "이 때 인덱스 열은 자료열의 가장 선두로 삽입된다. 데이터프레임의 인덱스는 정수로 된 디폴트 인덱스로 바뀐다."
   ]
  },
  {
   "cell_type": "code",
   "execution_count": 10,
   "metadata": {},
   "outputs": [
    {
     "data": {
      "text/html": "<div>\n<style scoped>\n    .dataframe tbody tr th:only-of-type {\n        vertical-align: middle;\n    }\n\n    .dataframe tbody tr th {\n        vertical-align: top;\n    }\n\n    .dataframe thead th {\n        text-align: right;\n    }\n</style>\n<table border=\"1\" class=\"dataframe\">\n  <thead>\n    <tr style=\"text-align: right;\">\n      <th></th>\n      <th>C2</th>\n      <th>C3</th>\n      <th>C4</th>\n    </tr>\n    <tr>\n      <th>C1</th>\n      <th></th>\n      <th></th>\n      <th></th>\n    </tr>\n  </thead>\n  <tbody>\n    <tr>\n      <th>A</th>\n      <td>0.61</td>\n      <td>0.13</td>\n      <td>0.1</td>\n    </tr>\n    <tr>\n      <th>B</th>\n      <td>0.73</td>\n      <td>0.18</td>\n      <td>0.06</td>\n    </tr>\n    <tr>\n      <th>C</th>\n      <td>0.14</td>\n      <td>0.75</td>\n      <td>0.96</td>\n    </tr>\n    <tr>\n      <th>D</th>\n      <td>0.31</td>\n      <td>0.66</td>\n      <td>0.62</td>\n    </tr>\n    <tr>\n      <th>E</th>\n      <td>1.0</td>\n      <td>0.78</td>\n      <td>0.09</td>\n    </tr>\n  </tbody>\n</table>\n</div>",
      "text/plain": "      C2    C3    C4\nC1                  \nA   0.61  0.13   0.1\nB   0.73  0.18  0.06\nC   0.14  0.75  0.96\nD   0.31  0.66  0.62\nE    1.0  0.78  0.09"
     },
     "execution_count": 10,
     "metadata": {},
     "output_type": "execute_result"
    }
   ],
   "source": [
    "df2.reset_index\r\n",
    "df2"
   ]
  },
  {
   "cell_type": "code",
   "execution_count": 11,
   "metadata": {},
   "outputs": [
    {
     "data": {
      "text/html": "<div>\n<style scoped>\n    .dataframe tbody tr th:only-of-type {\n        vertical-align: middle;\n    }\n\n    .dataframe tbody tr th {\n        vertical-align: top;\n    }\n\n    .dataframe thead th {\n        text-align: right;\n    }\n</style>\n<table border=\"1\" class=\"dataframe\">\n  <thead>\n    <tr style=\"text-align: right;\">\n      <th></th>\n      <th>C1</th>\n      <th>C2</th>\n      <th>C3</th>\n      <th>C4</th>\n    </tr>\n  </thead>\n  <tbody>\n    <tr>\n      <th>0</th>\n      <td>A</td>\n      <td>0.61</td>\n      <td>0.13</td>\n      <td>0.1</td>\n    </tr>\n    <tr>\n      <th>1</th>\n      <td>B</td>\n      <td>0.73</td>\n      <td>0.18</td>\n      <td>0.06</td>\n    </tr>\n    <tr>\n      <th>2</th>\n      <td>C</td>\n      <td>0.14</td>\n      <td>0.75</td>\n      <td>0.96</td>\n    </tr>\n    <tr>\n      <th>3</th>\n      <td>D</td>\n      <td>0.31</td>\n      <td>0.66</td>\n      <td>0.62</td>\n    </tr>\n    <tr>\n      <th>4</th>\n      <td>E</td>\n      <td>1.0</td>\n      <td>0.78</td>\n      <td>0.09</td>\n    </tr>\n  </tbody>\n</table>\n</div>",
      "text/plain": "  C1    C2    C3    C4\n0  A  0.61  0.13   0.1\n1  B  0.73  0.18  0.06\n2  C  0.14  0.75  0.96\n3  D  0.31  0.66  0.62\n4  E   1.0  0.78  0.09"
     },
     "execution_count": 11,
     "metadata": {},
     "output_type": "execute_result"
    }
   ],
   "source": [
    "df2.reset_index(inplace=True)\r\n",
    "df2"
   ]
  }
 ],
 "metadata": {
  "kernelspec": {
   "display_name": "Python 3.8.5 64-bit ('base': conda)",
   "name": "python385jvsc74a57bd08c1eae21719a0790335dcb83aad72b63b602cfe5cdb2bda0f60bc11d4f154e4b"
  },
  "language_info": {
   "codemirror_mode": {
    "name": "ipython",
    "version": 3
   },
   "file_extension": ".py",
   "mimetype": "text/x-python",
   "name": "python",
   "nbconvert_exporter": "python",
   "pygments_lexer": "ipython3",
   "version": "3.8.5"
  },
  "orig_nbformat": 2
 },
 "nbformat": 4,
 "nbformat_minor": 2
}